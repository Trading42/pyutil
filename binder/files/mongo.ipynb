{
 "cells": [
  {
   "cell_type": "code",
   "execution_count": 1,
   "metadata": {},
   "outputs": [],
   "source": [
    "# import prices from a csv file\n",
    "import pandas as pd\n",
    "prices = pd.read_csv(\"data/price.csv\", index_col=0, header=0, parse_dates=True)"
   ]
  },
  {
   "cell_type": "code",
   "execution_count": 2,
   "metadata": {},
   "outputs": [
    {
     "data": {
      "text/plain": [
       "mongomock.MongoClient('localhost', 27017)"
      ]
     },
     "execution_count": 2,
     "metadata": {},
     "output_type": "execute_result"
    }
   ],
   "source": [
    "# Connect with MongoDB (here using a mock database)\n",
    "# Here you could go wild and point to an existing MongoDB Server. \n",
    "from mongoengine import *\n",
    "connect(db=\"test\", host='mongomock://localhost', alias='default')"
   ]
  },
  {
   "cell_type": "code",
   "execution_count": 3,
   "metadata": {},
   "outputs": [],
   "source": [
    "# Symbols are arranged in groups. Hence we need a group first\n",
    "from pyutil.mongo.engine.symbol import Symbol, Group\n",
    "g = Group(name=\"US Stock\").save()\n",
    "\n",
    "# if you get a duplicate error with your MongoMock database just restart the kernel"
   ]
  },
  {
   "cell_type": "code",
   "execution_count": 4,
   "metadata": {},
   "outputs": [],
   "source": [
    "# Create a bunch of symbols\n",
    "for key, data in prices.items():\n",
    "    symbol = Symbol(name=key, group=g, internal=key, price=data.dropna()).save()"
   ]
  },
  {
   "cell_type": "code",
   "execution_count": 5,
   "metadata": {},
   "outputs": [
    {
     "name": "stdout",
     "output_type": "stream",
     "text": [
      "A\n",
      "US Stock\n",
      "A\n",
      "2015-04-20    1195.88\n",
      "2015-04-21    1202.34\n",
      "2015-04-22    1200.59\n",
      "Name: A, dtype: float64\n",
      "B\n",
      "US Stock\n",
      "B\n",
      "2015-04-20    27094.93\n",
      "2015-04-21    27850.49\n",
      "2015-04-22    27964.84\n",
      "Name: B, dtype: float64\n",
      "C\n",
      "US Stock\n",
      "C\n",
      "2015-04-16    54674.21\n",
      "2015-04-17    53954.79\n",
      "2015-04-20    53761.27\n",
      "Name: C, dtype: float64\n",
      "D\n",
      "US Stock\n",
      "D\n",
      "2015-04-20    2667.63\n",
      "2015-04-21    2651.41\n",
      "2015-04-22    2638.95\n",
      "Name: D, dtype: float64\n",
      "E\n",
      "US Stock\n",
      "E\n",
      "2015-04-17    2081.18\n",
      "2015-04-20    2100.40\n",
      "2015-04-21    2097.29\n",
      "Name: E, dtype: float64\n",
      "F\n",
      "US Stock\n",
      "F\n",
      "2015-04-20    3718.04\n",
      "2015-04-21    3719.38\n",
      "2015-04-22    3742.77\n",
      "Name: F, dtype: float64\n",
      "G\n",
      "US Stock\n",
      "G\n",
      "2015-04-17    3061.38\n",
      "2015-04-20    3059.73\n",
      "2015-04-21    3065.53\n",
      "Name: G, dtype: float64\n"
     ]
    }
   ],
   "source": [
    "# Loop over all symbols to do flips and shit\n",
    "for symbol in Symbol.objects:\n",
    "    print(symbol.name)\n",
    "    print(symbol.group.name)\n",
    "    print(symbol.internal)\n",
    "    print(symbol.price.tail(3))"
   ]
  },
  {
   "cell_type": "code",
   "execution_count": 9,
   "metadata": {},
   "outputs": [
    {
     "name": "stdout",
     "output_type": "stream",
     "text": [
      "A\n",
      "US Stock\n",
      "C\n",
      "US Stock\n"
     ]
    },
    {
     "data": {
      "text/plain": [
       "<Symbol: <Symbol: C>>"
      ]
     },
     "execution_count": 9,
     "metadata": {},
     "output_type": "execute_result"
    }
   ],
   "source": [
    "# Fish for a particular symbol and create some reference data\n",
    "s1 = Symbol.objects(name=\"A\").get()\n",
    "print(s1.name)\n",
    "print(s1.group.name)\n",
    "s1.reference[\"AA\"] = 20.0\n",
    "s1.reference[\"BB\"] = 30.0\n",
    "s1.save()\n",
    "\n",
    "s2 = Symbol.objects(name=\"C\").get()\n",
    "print(s2.name)\n",
    "print(s2.group.name)\n",
    "s2.reference[\"BB\"] = 40.0\n",
    "s2.reference[\"CC\"] = 30.0\n",
    "s2.save()"
   ]
  },
  {
   "cell_type": "code",
   "execution_count": 10,
   "metadata": {},
   "outputs": [
    {
     "data": {
      "text/html": [
       "<div>\n",
       "<style scoped>\n",
       "    .dataframe tbody tr th:only-of-type {\n",
       "        vertical-align: middle;\n",
       "    }\n",
       "\n",
       "    .dataframe tbody tr th {\n",
       "        vertical-align: top;\n",
       "    }\n",
       "\n",
       "    .dataframe thead th {\n",
       "        text-align: right;\n",
       "    }\n",
       "</style>\n",
       "<table border=\"1\" class=\"dataframe\">\n",
       "  <thead>\n",
       "    <tr style=\"text-align: right;\">\n",
       "      <th></th>\n",
       "      <th>AA</th>\n",
       "      <th>BB</th>\n",
       "      <th>CC</th>\n",
       "      <th>Sector</th>\n",
       "      <th>Internal</th>\n",
       "    </tr>\n",
       "    <tr>\n",
       "      <th>symbol</th>\n",
       "      <th></th>\n",
       "      <th></th>\n",
       "      <th></th>\n",
       "      <th></th>\n",
       "      <th></th>\n",
       "    </tr>\n",
       "  </thead>\n",
       "  <tbody>\n",
       "    <tr>\n",
       "      <th>A</th>\n",
       "      <td>20.0</td>\n",
       "      <td>30.0</td>\n",
       "      <td>NaN</td>\n",
       "      <td>US Stock</td>\n",
       "      <td>A</td>\n",
       "    </tr>\n",
       "    <tr>\n",
       "      <th>C</th>\n",
       "      <td>NaN</td>\n",
       "      <td>40.0</td>\n",
       "      <td>30.0</td>\n",
       "      <td>US Stock</td>\n",
       "      <td>C</td>\n",
       "    </tr>\n",
       "  </tbody>\n",
       "</table>\n",
       "</div>"
      ],
      "text/plain": [
       "          AA    BB    CC    Sector Internal\n",
       "symbol                                     \n",
       "A       20.0  30.0   NaN  US Stock        A\n",
       "C        NaN  40.0  30.0  US Stock        C"
      ]
     },
     "execution_count": 10,
     "metadata": {},
     "output_type": "execute_result"
    }
   ],
   "source": [
    "# Construct a frame with all reference data for a bunch of symbols\n",
    "Symbol.reference_frame(products=[s1,s2])"
   ]
  },
  {
   "cell_type": "code",
   "execution_count": 14,
   "metadata": {},
   "outputs": [
    {
     "data": {
      "text/html": [
       "<div>\n",
       "<style scoped>\n",
       "    .dataframe tbody tr th:only-of-type {\n",
       "        vertical-align: middle;\n",
       "    }\n",
       "\n",
       "    .dataframe tbody tr th {\n",
       "        vertical-align: top;\n",
       "    }\n",
       "\n",
       "    .dataframe thead th {\n",
       "        text-align: right;\n",
       "    }\n",
       "</style>\n",
       "<table border=\"1\" class=\"dataframe\">\n",
       "  <thead>\n",
       "    <tr style=\"text-align: right;\">\n",
       "      <th></th>\n",
       "      <th>AA</th>\n",
       "      <th>BB</th>\n",
       "      <th>CC</th>\n",
       "      <th>Sector</th>\n",
       "      <th>Internal</th>\n",
       "    </tr>\n",
       "    <tr>\n",
       "      <th>symbol</th>\n",
       "      <th></th>\n",
       "      <th></th>\n",
       "      <th></th>\n",
       "      <th></th>\n",
       "      <th></th>\n",
       "    </tr>\n",
       "  </thead>\n",
       "  <tbody>\n",
       "    <tr>\n",
       "      <th>A</th>\n",
       "      <td>20.0</td>\n",
       "      <td>30.0</td>\n",
       "      <td>NaN</td>\n",
       "      <td>US Stock</td>\n",
       "      <td>A</td>\n",
       "    </tr>\n",
       "    <tr>\n",
       "      <th>B</th>\n",
       "      <td>NaN</td>\n",
       "      <td>NaN</td>\n",
       "      <td>NaN</td>\n",
       "      <td>US Stock</td>\n",
       "      <td>B</td>\n",
       "    </tr>\n",
       "    <tr>\n",
       "      <th>C</th>\n",
       "      <td>NaN</td>\n",
       "      <td>40.0</td>\n",
       "      <td>30.0</td>\n",
       "      <td>US Stock</td>\n",
       "      <td>C</td>\n",
       "    </tr>\n",
       "    <tr>\n",
       "      <th>D</th>\n",
       "      <td>NaN</td>\n",
       "      <td>NaN</td>\n",
       "      <td>NaN</td>\n",
       "      <td>US Stock</td>\n",
       "      <td>D</td>\n",
       "    </tr>\n",
       "    <tr>\n",
       "      <th>E</th>\n",
       "      <td>NaN</td>\n",
       "      <td>NaN</td>\n",
       "      <td>NaN</td>\n",
       "      <td>US Stock</td>\n",
       "      <td>E</td>\n",
       "    </tr>\n",
       "    <tr>\n",
       "      <th>F</th>\n",
       "      <td>NaN</td>\n",
       "      <td>NaN</td>\n",
       "      <td>NaN</td>\n",
       "      <td>US Stock</td>\n",
       "      <td>F</td>\n",
       "    </tr>\n",
       "    <tr>\n",
       "      <th>G</th>\n",
       "      <td>NaN</td>\n",
       "      <td>NaN</td>\n",
       "      <td>NaN</td>\n",
       "      <td>US Stock</td>\n",
       "      <td>G</td>\n",
       "    </tr>\n",
       "  </tbody>\n",
       "</table>\n",
       "</div>"
      ],
      "text/plain": [
       "          AA    BB    CC    Sector Internal\n",
       "symbol                                     \n",
       "A       20.0  30.0   NaN  US Stock        A\n",
       "B        NaN   NaN   NaN  US Stock        B\n",
       "C        NaN  40.0  30.0  US Stock        C\n",
       "D        NaN   NaN   NaN  US Stock        D\n",
       "E        NaN   NaN   NaN  US Stock        E\n",
       "F        NaN   NaN   NaN  US Stock        F\n",
       "G        NaN   NaN   NaN  US Stock        G"
      ]
     },
     "execution_count": 14,
     "metadata": {},
     "output_type": "execute_result"
    }
   ],
   "source": [
    "# and again but for all symbols\n",
    "Symbol.reference_frame()"
   ]
  },
  {
   "cell_type": "code",
   "execution_count": null,
   "outputs": [],
   "source": [
    "# extract a frame of time series data\n",
    "Symbol.pandas_frame(item=\"price\", products=[s1,s2])"
   ],
   "metadata": {
    "collapsed": false,
    "pycharm": {
     "name": "#%%\n"
    }
   }
  },
  {
   "cell_type": "code",
   "execution_count": null,
   "outputs": [],
   "source": [
    "# and again but for all symbols\n",
    "Symbol.pandas_frame(item=\"price\")"
   ],
   "metadata": {
    "collapsed": false,
    "pycharm": {
     "name": "#%%\n"
    }
   }
  },
  {
   "cell_type": "code",
   "execution_count": null,
   "outputs": [],
   "source": [],
   "metadata": {
    "collapsed": false,
    "pycharm": {
     "name": "#%%\n"
    }
   }
  },
  {
   "cell_type": "code",
   "execution_count": null,
   "outputs": [],
   "source": [
    "# and again but for all symbols\n",
    "Symbol.pandas_frame(item=\"price\")"
   ],
   "metadata": {
    "collapsed": false,
    "pycharm": {
     "name": "#%%\n"
    }
   }
  },
  {
   "cell_type": "code",
   "execution_count": null,
   "outputs": [],
   "source": [],
   "metadata": {
    "collapsed": false,
    "pycharm": {
     "name": "#%%\n"
    }
   }
  },
  {
   "cell_type": "code",
   "execution_count": null,
   "outputs": [],
   "source": [
    "# and again but for all symbols\n",
    "Symbol.pandas_frame(item=\"price\")"
   ],
   "metadata": {
    "collapsed": false,
    "pycharm": {
     "name": "#%%\n"
    }
   }
  },
  {
   "cell_type": "code",
   "execution_count": 8,
   "metadata": {},
   "outputs": [
    {
     "data": {
      "text/html": [
       "<div>\n",
       "<style scoped>\n",
       "    .dataframe tbody tr th:only-of-type {\n",
       "        vertical-align: middle;\n",
       "    }\n",
       "\n",
       "    .dataframe tbody tr th {\n",
       "        vertical-align: top;\n",
       "    }\n",
       "\n",
       "    .dataframe thead th {\n",
       "        text-align: right;\n",
       "    }\n",
       "</style>\n",
       "<table border=\"1\" class=\"dataframe\">\n",
       "  <thead>\n",
       "    <tr style=\"text-align: right;\">\n",
       "      <th>symbol</th>\n",
       "      <th>A</th>\n",
       "      <th>C</th>\n",
       "    </tr>\n",
       "  </thead>\n",
       "  <tbody>\n",
       "    <tr>\n",
       "      <th>2013-01-01</th>\n",
       "      <td>1673.78</td>\n",
       "      <td>62550.10</td>\n",
       "    </tr>\n",
       "    <tr>\n",
       "      <th>2013-01-02</th>\n",
       "      <td>1686.90</td>\n",
       "      <td>62550.10</td>\n",
       "    </tr>\n",
       "    <tr>\n",
       "      <th>2013-01-03</th>\n",
       "      <td>1663.95</td>\n",
       "      <td>63312.46</td>\n",
       "    </tr>\n",
       "    <tr>\n",
       "      <th>2013-01-04</th>\n",
       "      <td>1655.65</td>\n",
       "      <td>62523.06</td>\n",
       "    </tr>\n",
       "    <tr>\n",
       "      <th>2013-01-07</th>\n",
       "      <td>1646.95</td>\n",
       "      <td>61932.54</td>\n",
       "    </tr>\n",
       "    <tr>\n",
       "      <th>...</th>\n",
       "      <td>...</td>\n",
       "      <td>...</td>\n",
       "    </tr>\n",
       "    <tr>\n",
       "      <th>2015-04-16</th>\n",
       "      <td>1198.56</td>\n",
       "      <td>54674.21</td>\n",
       "    </tr>\n",
       "    <tr>\n",
       "      <th>2015-04-17</th>\n",
       "      <td>1204.27</td>\n",
       "      <td>53954.79</td>\n",
       "    </tr>\n",
       "    <tr>\n",
       "      <th>2015-04-20</th>\n",
       "      <td>1195.88</td>\n",
       "      <td>53761.27</td>\n",
       "    </tr>\n",
       "    <tr>\n",
       "      <th>2015-04-21</th>\n",
       "      <td>1202.34</td>\n",
       "      <td>NaN</td>\n",
       "    </tr>\n",
       "    <tr>\n",
       "      <th>2015-04-22</th>\n",
       "      <td>1200.59</td>\n",
       "      <td>NaN</td>\n",
       "    </tr>\n",
       "  </tbody>\n",
       "</table>\n",
       "<p>602 rows × 2 columns</p>\n",
       "</div>"
      ],
      "text/plain": [
       "symbol            A         C\n",
       "2013-01-01  1673.78  62550.10\n",
       "2013-01-02  1686.90  62550.10\n",
       "2013-01-03  1663.95  63312.46\n",
       "2013-01-04  1655.65  62523.06\n",
       "2013-01-07  1646.95  61932.54\n",
       "...             ...       ...\n",
       "2015-04-16  1198.56  54674.21\n",
       "2015-04-17  1204.27  53954.79\n",
       "2015-04-20  1195.88  53761.27\n",
       "2015-04-21  1202.34       NaN\n",
       "2015-04-22  1200.59       NaN\n",
       "\n",
       "[602 rows x 2 columns]"
      ]
     },
     "execution_count": 8,
     "metadata": {},
     "output_type": "execute_result"
    }
   ],
   "source": []
  },
  {
   "cell_type": "code",
   "execution_count": 12,
   "metadata": {},
   "outputs": [
    {
     "data": {
      "text/html": [
       "<div>\n",
       "<style scoped>\n",
       "    .dataframe tbody tr th:only-of-type {\n",
       "        vertical-align: middle;\n",
       "    }\n",
       "\n",
       "    .dataframe tbody tr th {\n",
       "        vertical-align: top;\n",
       "    }\n",
       "\n",
       "    .dataframe thead th {\n",
       "        text-align: right;\n",
       "    }\n",
       "</style>\n",
       "<table border=\"1\" class=\"dataframe\">\n",
       "  <thead>\n",
       "    <tr style=\"text-align: right;\">\n",
       "      <th>symbol</th>\n",
       "      <th>A</th>\n",
       "      <th>B</th>\n",
       "      <th>C</th>\n",
       "      <th>D</th>\n",
       "      <th>E</th>\n",
       "      <th>F</th>\n",
       "      <th>G</th>\n",
       "    </tr>\n",
       "  </thead>\n",
       "  <tbody>\n",
       "    <tr>\n",
       "      <th>2013-01-01</th>\n",
       "      <td>1673.78</td>\n",
       "      <td>23311.98</td>\n",
       "      <td>62550.10</td>\n",
       "      <td>3735.12</td>\n",
       "      <td>1462.42</td>\n",
       "      <td>2711.25</td>\n",
       "      <td>2518.99</td>\n",
       "    </tr>\n",
       "    <tr>\n",
       "      <th>2013-01-02</th>\n",
       "      <td>1686.90</td>\n",
       "      <td>23311.98</td>\n",
       "      <td>62550.10</td>\n",
       "      <td>3735.12</td>\n",
       "      <td>1462.42</td>\n",
       "      <td>2711.25</td>\n",
       "      <td>2518.99</td>\n",
       "    </tr>\n",
       "    <tr>\n",
       "      <th>2013-01-03</th>\n",
       "      <td>1663.95</td>\n",
       "      <td>23398.60</td>\n",
       "      <td>63312.46</td>\n",
       "      <td>3714.99</td>\n",
       "      <td>1459.37</td>\n",
       "      <td>2701.22</td>\n",
       "      <td>2509.51</td>\n",
       "    </tr>\n",
       "    <tr>\n",
       "      <th>2013-01-04</th>\n",
       "      <td>1655.65</td>\n",
       "      <td>23331.09</td>\n",
       "      <td>62523.06</td>\n",
       "      <td>3689.34</td>\n",
       "      <td>1466.47</td>\n",
       "      <td>2709.35</td>\n",
       "      <td>2516.81</td>\n",
       "    </tr>\n",
       "    <tr>\n",
       "      <th>2013-01-07</th>\n",
       "      <td>1646.95</td>\n",
       "      <td>23329.75</td>\n",
       "      <td>61932.54</td>\n",
       "      <td>3699.14</td>\n",
       "      <td>1461.89</td>\n",
       "      <td>2695.56</td>\n",
       "      <td>2523.77</td>\n",
       "    </tr>\n",
       "    <tr>\n",
       "      <th>...</th>\n",
       "      <td>...</td>\n",
       "      <td>...</td>\n",
       "      <td>...</td>\n",
       "      <td>...</td>\n",
       "      <td>...</td>\n",
       "      <td>...</td>\n",
       "      <td>...</td>\n",
       "    </tr>\n",
       "    <tr>\n",
       "      <th>2015-04-16</th>\n",
       "      <td>1198.56</td>\n",
       "      <td>27739.71</td>\n",
       "      <td>54674.21</td>\n",
       "      <td>2694.50</td>\n",
       "      <td>2104.99</td>\n",
       "      <td>3751.72</td>\n",
       "      <td>3077.21</td>\n",
       "    </tr>\n",
       "    <tr>\n",
       "      <th>2015-04-17</th>\n",
       "      <td>1204.27</td>\n",
       "      <td>27653.12</td>\n",
       "      <td>53954.79</td>\n",
       "      <td>2676.61</td>\n",
       "      <td>2081.18</td>\n",
       "      <td>3674.05</td>\n",
       "      <td>3061.38</td>\n",
       "    </tr>\n",
       "    <tr>\n",
       "      <th>2015-04-20</th>\n",
       "      <td>1195.88</td>\n",
       "      <td>27094.93</td>\n",
       "      <td>53761.27</td>\n",
       "      <td>2667.63</td>\n",
       "      <td>2100.40</td>\n",
       "      <td>3718.04</td>\n",
       "      <td>3059.73</td>\n",
       "    </tr>\n",
       "    <tr>\n",
       "      <th>2015-04-21</th>\n",
       "      <td>1202.34</td>\n",
       "      <td>27850.49</td>\n",
       "      <td>NaN</td>\n",
       "      <td>2651.41</td>\n",
       "      <td>2097.29</td>\n",
       "      <td>3719.38</td>\n",
       "      <td>3065.53</td>\n",
       "    </tr>\n",
       "    <tr>\n",
       "      <th>2015-04-22</th>\n",
       "      <td>1200.59</td>\n",
       "      <td>27964.84</td>\n",
       "      <td>NaN</td>\n",
       "      <td>2638.95</td>\n",
       "      <td>NaN</td>\n",
       "      <td>3742.77</td>\n",
       "      <td>NaN</td>\n",
       "    </tr>\n",
       "  </tbody>\n",
       "</table>\n",
       "<p>602 rows × 7 columns</p>\n",
       "</div>"
      ],
      "text/plain": [
       "symbol            A         B         C        D        E        F        G\n",
       "2013-01-01  1673.78  23311.98  62550.10  3735.12  1462.42  2711.25  2518.99\n",
       "2013-01-02  1686.90  23311.98  62550.10  3735.12  1462.42  2711.25  2518.99\n",
       "2013-01-03  1663.95  23398.60  63312.46  3714.99  1459.37  2701.22  2509.51\n",
       "2013-01-04  1655.65  23331.09  62523.06  3689.34  1466.47  2709.35  2516.81\n",
       "2013-01-07  1646.95  23329.75  61932.54  3699.14  1461.89  2695.56  2523.77\n",
       "...             ...       ...       ...      ...      ...      ...      ...\n",
       "2015-04-16  1198.56  27739.71  54674.21  2694.50  2104.99  3751.72  3077.21\n",
       "2015-04-17  1204.27  27653.12  53954.79  2676.61  2081.18  3674.05  3061.38\n",
       "2015-04-20  1195.88  27094.93  53761.27  2667.63  2100.40  3718.04  3059.73\n",
       "2015-04-21  1202.34  27850.49       NaN  2651.41  2097.29  3719.38  3065.53\n",
       "2015-04-22  1200.59  27964.84       NaN  2638.95      NaN  3742.77      NaN\n",
       "\n",
       "[602 rows x 7 columns]"
      ]
     },
     "execution_count": 12,
     "metadata": {},
     "output_type": "execute_result"
    }
   ],
   "source": [
    "# and again but for all symbols\n",
    "Symbol.pandas_frame(item=\"price\")"
   ]
  },
  {
   "cell_type": "code",
   "execution_count": null,
   "metadata": {},
   "outputs": [],
   "source": []
  }
 ],
 "metadata": {
  "kernelspec": {
   "display_name": "Python 3",
   "language": "python",
   "name": "python3"
  },
  "language_info": {
   "codemirror_mode": {
    "name": "ipython",
    "version": 3
   },
   "file_extension": ".py",
   "mimetype": "text/x-python",
   "name": "python",
   "nbconvert_exporter": "python",
   "pygments_lexer": "ipython3",
   "version": "3.7.3"
  },
  "pycharm": {
   "stem_cell": {
    "cell_type": "raw",
    "source": [],
    "metadata": {
     "collapsed": false
    }
   }
  },
  "toc": {
   "base_numbering": 1,
   "nav_menu": {},
   "number_sections": false,
   "sideBar": false,
   "skip_h1_title": false,
   "title_cell": "Table of Contents",
   "title_sidebar": "Contents",
   "toc_cell": false,
   "toc_position": {},
   "toc_section_display": false,
   "toc_window_display": false
  }
 },
 "nbformat": 4,
 "nbformat_minor": 2
}