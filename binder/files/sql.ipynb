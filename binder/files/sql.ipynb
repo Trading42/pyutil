{
 "cells": [
  {
   "cell_type": "code",
   "execution_count": 6,
   "metadata": {},
   "outputs": [],
   "source": [
    "import os\n",
    "import sqlalchemy as sq\n",
    "\n",
    "# temporary file for sql database\n",
    "if os.path.exists(\"file.db\"):\n",
    "    os.remove(\"file.db\")"
   ]
  },
  {
   "cell_type": "code",
   "execution_count": 7,
   "metadata": {},
   "outputs": [],
   "source": [
    "# import prices from csv file\n",
    "import pandas as pd\n",
    "prices = pd.read_csv(\"data/price.csv\", index_col=0, header=0, parse_dates=True)"
   ]
  },
  {
   "cell_type": "code",
   "execution_count": 8,
   "metadata": {},
   "outputs": [],
   "source": [
    "from pyutil.sql.interfaces.symbols.symbol import Symbol, SymbolType\n",
    "# Here you can go wild and point to an existing MongoDB Server. I use an inmemory-solution here...\n",
    "from mongomock import MongoClient\n",
    "\n",
    "# point to an inmemory Mongo Database\n",
    "Symbol.mongo_database = MongoClient()[\"test\"]"
   ]
  },
  {
   "cell_type": "code",
   "execution_count": 9,
   "metadata": {},
   "outputs": [],
   "source": [
    "from pyutil.sql.base import Base\n",
    "from pyutil.sql.session import session \n",
    "\n",
    "\n",
    "with session('sqlite:///file.db', echo=False, base=Base) as s:\n",
    "    for key, data in prices.items():\n",
    "        symbol = Symbol(name=key, group=SymbolType.equities, internal=key)\n",
    "        # upsert the prices\n",
    "        symbol.series[\"PX_LAST\"] = data.dropna()\n",
    "        s.add(symbol)\n",
    "    s.commit()  \n",
    "    # this will raise an error as a Symbol with the same name has already been defined\n",
    "    # same issue if we execute this cell a second time...\n",
    "    # you may need to delete file.db by hand\n",
    "    # symbol = Symbol(name=\"A\", group=SymbolType.equities, internal=\"Peter Maffay\")\n",
    "    # session.add(symbol)\n",
    "    \n",
    "    # commit is called whenever we leave the scope, so no need to do this explicitly here\n",
    "    # s.commit()\n"
   ]
  },
  {
   "cell_type": "code",
   "execution_count": 10,
   "metadata": {},
   "outputs": [
    {
     "name": "stdout",
     "output_type": "stream",
     "text": [
      "A\n",
      "2015-04-21    1202.34\n",
      "2015-04-22    1200.59\n",
      "Name: A, dtype: float64\n",
      "B\n",
      "2015-04-21    27850.49\n",
      "2015-04-22    27964.84\n",
      "Name: B, dtype: float64\n",
      "C\n",
      "2015-04-17    53954.79\n",
      "2015-04-20    53761.27\n",
      "Name: C, dtype: float64\n",
      "D\n",
      "2015-04-21    2651.41\n",
      "2015-04-22    2638.95\n",
      "Name: D, dtype: float64\n",
      "E\n",
      "2015-04-20    2100.40\n",
      "2015-04-21    2097.29\n",
      "Name: E, dtype: float64\n",
      "F\n",
      "2015-04-21    3719.38\n",
      "2015-04-22    3742.77\n",
      "Name: F, dtype: float64\n",
      "G\n",
      "2015-04-20    3059.73\n",
      "2015-04-21    3065.53\n",
      "Name: G, dtype: float64\n"
     ]
    }
   ],
   "source": [
    "with session('sqlite:///file.db', echo=False, base=Base) as s:\n",
    "    for symbol in s.query(Symbol):\n",
    "        print(symbol)\n",
    "        print(symbol.series[\"PX_LAST\"].tail(2))"
   ]
  },
  {
   "cell_type": "code",
   "execution_count": 14,
   "metadata": {},
   "outputs": [
    {
     "name": "stdout",
     "output_type": "stream",
     "text": [
      "          Sector Internal\n",
      "symbol                   \n",
      "A       Equities        A\n",
      "B       Equities        B\n",
      "symbol            A         B\n",
      "2015-04-16  1198.56  27739.71\n",
      "2015-04-17  1204.27  27653.12\n",
      "2015-04-20  1195.88  27094.93\n",
      "2015-04-21  1202.34  27850.49\n",
      "2015-04-22  1200.59  27964.84\n"
     ]
    }
   ],
   "source": [
    "with session('sqlite:///file.db', echo=False, base=Base) as s:\n",
    "    a = s.query(Symbol).filter(Symbol.name==\"A\").one()\n",
    "    b = s.query(Symbol).filter(Symbol.name==\"B\").one()\n",
    "    symbols = [a,b]\n",
    "    t = Symbol.reference_frame(symbols)\n",
    "    print(t)\n",
    "    h = Symbol.pandas_frame(key=\"PX_LAST\", products=symbols).tail(5)\n",
    "    print(h)\n",
    "    \n",
    "\n"
   ]
  },
  {
   "cell_type": "code",
   "execution_count": null,
   "metadata": {},
   "outputs": [],
   "source": []
  }
 ],
 "metadata": {
  "kernelspec": {
   "display_name": "Python 3",
   "language": "python",
   "name": "python3"
  },
  "language_info": {
   "codemirror_mode": {
    "name": "ipython",
    "version": 3
   },
   "file_extension": ".py",
   "mimetype": "text/x-python",
   "name": "python",
   "nbconvert_exporter": "python",
   "pygments_lexer": "ipython3",
   "version": "3.7.3"
  },
  "toc": {
   "base_numbering": 1,
   "nav_menu": {},
   "number_sections": false,
   "sideBar": false,
   "skip_h1_title": false,
   "title_cell": "Table of Contents",
   "title_sidebar": "Contents",
   "toc_cell": false,
   "toc_position": {},
   "toc_section_display": false,
   "toc_window_display": false
  }
 },
 "nbformat": 4,
 "nbformat_minor": 2
}
