{
 "cells": [
  {
   "cell_type": "code",
   "execution_count": 12,
   "metadata": {},
   "outputs": [],
   "source": [
    "import os\n",
    "import sqlalchemy as sq\n",
    "\n",
    "# temporary file for sql database\n",
    "if os.path.exists(\"file.db\"):\n",
    "    os.remove(\"file.db\")"
   ]
  },
  {
   "cell_type": "code",
   "execution_count": 9,
   "metadata": {},
   "outputs": [],
   "source": [
    "# import prices from csv file\n",
    "import pandas as pd\n",
    "prices = pd.read_csv(\"data/price.csv\", index_col=0, header=0, parse_dates=True)"
   ]
  },
  {
   "cell_type": "code",
   "execution_count": 10,
   "metadata": {},
   "outputs": [],
   "source": [
    "from pyutil.sql.interfaces.symbols.symbol import Symbol, SymbolType\n",
    "# Here you can go wild and point to an existing MongoDB Server. I use an inmemory-solution here...\n",
    "from mongomock import MongoClient\n",
    "\n",
    "# point to an inmemory Mongo Database\n",
    "Symbol.mongo_database = MongoClient()[\"test\"]"
   ]
  },
  {
   "cell_type": "code",
   "execution_count": 13,
   "metadata": {},
   "outputs": [],
   "source": [
    "from pyutil.sql.base import Base\n",
    "from pyutil.sql.session import session \n",
    "\n",
    "\n",
    "with session('sqlite:///file.db', echo=False, base=Base) as s:\n",
    "    for key, data in prices.items():\n",
    "        symbol = Symbol(name=key, group=SymbolType.equities, internal=key)\n",
    "        # upsert the prices\n",
    "        symbol.series[\"PX_LAST\"] = data.dropna()\n",
    "        s.add(symbol)\n",
    "        \n",
    "    # this will raise an error as a Symbol with the same name has already been defined\n",
    "    # same issue if we execute this cell a second time...\n",
    "    # you may need to delete file.db by hand\n",
    "    # symbol = Symbol(name=\"A\", group=SymbolType.equities, internal=\"Peter Maffay\")\n",
    "    # session.add(symbol)\n",
    "    \n",
    "    # commit is called whenever we leave the scope, so no need to do this explicitly here\n",
    "    # s.commit()\n"
   ]
  },
  {
   "cell_type": "code",
   "execution_count": 16,
   "metadata": {},
   "outputs": [
    {
     "name": "stdout",
     "output_type": "stream",
     "text": [
      "A\n",
      "2015-04-21    1202.34\n",
      "2015-04-22    1200.59\n",
      "Name: A, dtype: float64\n",
      "B\n",
      "2015-04-21    27850.49\n",
      "2015-04-22    27964.84\n",
      "Name: B, dtype: float64\n",
      "C\n",
      "2015-04-17    53954.79\n",
      "2015-04-20    53761.27\n",
      "Name: C, dtype: float64\n",
      "D\n",
      "2015-04-21    2651.41\n",
      "2015-04-22    2638.95\n",
      "Name: D, dtype: float64\n",
      "E\n",
      "2015-04-20    2100.40\n",
      "2015-04-21    2097.29\n",
      "Name: E, dtype: float64\n",
      "F\n",
      "2015-04-21    3719.38\n",
      "2015-04-22    3742.77\n",
      "Name: F, dtype: float64\n",
      "G\n",
      "2015-04-20    3059.73\n",
      "2015-04-21    3065.53\n",
      "Name: G, dtype: float64\n"
     ]
    }
   ],
   "source": [
    "with session('sqlite:///file.db', echo=False, base=Base) as s:\n",
    "    for symbol in s.query(Symbol):\n",
    "        print(symbol)\n",
    "        print(symbol.series[\"PX_LAST\"].tail(2))"
   ]
  },
  {
   "cell_type": "code",
   "execution_count": 10,
   "metadata": {},
   "outputs": [
    {
     "name": "stdout",
     "output_type": "stream",
     "text": [
      "          Name    Sector\n",
      "Symbol                  \n",
      "symbol(A)    A  Equities\n",
      "symbol(B)    B  Equities\n",
      "            symbol(A)  symbol(B)\n",
      "2013-01-01    1673.78   23311.98\n",
      "2013-01-02    1686.90   23311.98\n",
      "2013-01-03    1663.95   23398.60\n",
      "2013-01-04    1655.65   23331.09\n",
      "2013-01-07    1646.95   23329.75\n",
      "2013-01-08    1659.25   23111.19\n",
      "2013-01-09    1657.75   23218.47\n",
      "2013-01-10    1675.45   23354.31\n",
      "2013-01-11    1662.80   23264.07\n",
      "2013-01-14    1667.85   23413.26\n",
      "2013-01-15    1679.45   23381.51\n",
      "2013-01-16    1679.95   23356.99\n",
      "2013-01-17    1687.55   23339.76\n",
      "2013-01-18    1684.30   23601.78\n",
      "2013-01-21    1690.05   23590.91\n",
      "2013-01-22    1692.70   23658.99\n",
      "2013-01-23    1685.85   23635.10\n",
      "2013-01-24    1667.95   23598.90\n",
      "2013-01-25    1658.70   23580.43\n",
      "2013-01-28    1655.50   23671.88\n",
      "2013-01-29    1663.80   23655.17\n",
      "2013-01-30    1677.05   23822.06\n",
      "2013-01-31    1663.65   23729.53\n",
      "2013-02-01    1667.45   23721.84\n",
      "2013-02-04    1673.70   23685.01\n",
      "2013-02-05    1672.95   23148.53\n",
      "2013-02-06    1677.70   23256.93\n",
      "2013-02-07    1671.65   23177.00\n",
      "2013-02-08    1667.20   23215.16\n",
      "2013-02-11    1647.95        NaN\n",
      "...               ...        ...\n",
      "2015-03-12    1153.68   23797.96\n",
      "2015-03-13    1158.55   23823.21\n",
      "2015-03-16    1154.86   23949.55\n",
      "2015-03-17    1149.55   23901.49\n",
      "2015-03-18    1167.58   24120.08\n",
      "2015-03-19    1171.11   24468.89\n",
      "2015-03-20    1182.63   24375.24\n",
      "2015-03-23    1189.51   24494.51\n",
      "2015-03-24    1193.33   24399.60\n",
      "2015-03-25    1195.43   24528.23\n",
      "2015-03-26    1204.83   24497.08\n",
      "2015-03-27    1198.75   24486.20\n",
      "2015-03-30    1186.07   24855.12\n",
      "2015-03-31    1183.68   24900.89\n",
      "2015-04-01    1203.90   25082.75\n",
      "2015-04-02    1202.60   25275.64\n",
      "2015-04-03    1202.87        NaN\n",
      "2015-04-06    1214.85        NaN\n",
      "2015-04-07    1209.20        NaN\n",
      "2015-04-08    1202.51   26236.86\n",
      "2015-04-09    1194.72   26944.39\n",
      "2015-04-10    1207.57   27272.39\n",
      "2015-04-13    1198.89   28016.34\n",
      "2015-04-14    1192.76   27561.49\n",
      "2015-04-15    1202.59   27618.82\n",
      "2015-04-16    1198.56   27739.71\n",
      "2015-04-17    1204.27   27653.12\n",
      "2015-04-20    1195.88   27094.93\n",
      "2015-04-21    1202.34   27850.49\n",
      "2015-04-22    1200.59   27964.84\n",
      "\n",
      "[602 rows x 2 columns]\n",
      "            symbol(A)  symbol(B)\n",
      "2015-04-16    1198.56   27739.71\n",
      "2015-04-17    1204.27   27653.12\n",
      "2015-04-20    1195.88   27094.93\n",
      "2015-04-21    1202.34   27850.49\n",
      "2015-04-22    1200.59   27964.84\n"
     ]
    }
   ],
   "source": [
    "with session('sqlite:///file.db', echo=False, base=Base) as s:\n",
    "    a = s.query(Symbol).filter(Symbol.name==\"A\").one()\n",
    "    b = s.query(Symbol).filter(Symbol.name==\"B\").one()\n",
    "    symbols = [a,b]\n",
    "    t = Symbol.frame(symbols)\n",
    "    print(t)\n",
    "    h = Symbol.history(symbols).tail(5)\n",
    "    print(h)\n",
    "    \n",
    "\n"
   ]
  },
  {
   "cell_type": "code",
   "execution_count": null,
   "metadata": {},
   "outputs": [],
   "source": []
  }
 ],
 "metadata": {
  "kernelspec": {
   "display_name": "Python 3",
   "language": "python",
   "name": "python3"
  },
  "language_info": {
   "codemirror_mode": {
    "name": "ipython",
    "version": 3
   },
   "file_extension": ".py",
   "mimetype": "text/x-python",
   "name": "python",
   "nbconvert_exporter": "python",
   "pygments_lexer": "ipython3",
   "version": "3.7.3"
  },
  "toc": {
   "base_numbering": 1,
   "nav_menu": {},
   "number_sections": false,
   "sideBar": false,
   "skip_h1_title": false,
   "title_cell": "Table of Contents",
   "title_sidebar": "Contents",
   "toc_cell": false,
   "toc_position": {},
   "toc_section_display": false,
   "toc_window_display": false
  }
 },
 "nbformat": 4,
 "nbformat_minor": 2
}
