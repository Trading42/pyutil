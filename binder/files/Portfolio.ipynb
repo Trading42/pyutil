{
 "cells": [
  {
   "cell_type": "markdown",
   "metadata": {},
   "source": [
    "# Portfolio"
   ]
  },
  {
   "cell_type": "code",
   "execution_count": 1,
   "metadata": {},
   "outputs": [],
   "source": [
    "import pandas as pd\n",
    "from beakerx import *"
   ]
  },
  {
   "cell_type": "code",
   "execution_count": 2,
   "metadata": {},
   "outputs": [],
   "source": [
    "prices=pd.read_csv(\"data/price.csv\", index_col=0, header=0, parse_dates=True)"
   ]
  },
  {
   "cell_type": "code",
   "execution_count": 3,
   "metadata": {},
   "outputs": [
    {
     "name": "stderr",
     "output_type": "stream",
     "text": [
      "/opt/conda/lib/python3.7/site-packages/beakerx/plot/chart.py:312: FutureWarning: The 'get_values' method is deprecated and will be removed in a future version. Use '.to_numpy()' or '.array' instead.\n",
      "  xs = tableData.index.get_values()\n"
     ]
    },
    {
     "data": {
      "application/vnd.jupyter.widget-view+json": {
       "model_id": "b108751e41554019878ce80805d3a227",
       "version_major": 2,
       "version_minor": 0
      }
     },
     "metadata": {},
     "output_type": "display_data"
    }
   ],
   "source": [
    "SimpleTimePlot(prices, prices.keys())"
   ]
  },
  {
   "cell_type": "code",
   "execution_count": 4,
   "metadata": {},
   "outputs": [],
   "source": [
    "from pyutil.portfolio.portfolio import Portfolio\n",
    "\n",
    "# construct a 1/n portfolio, assets that come in later will initially not have any weight\n",
    "def f(x):\n",
    "    # how many assets are alive?\n",
    "    n = x.notnull().sum()\n",
    "    y = pd.Series(index=x.index)\n",
    "    if n > 0:\n",
    "        y[x.notnull()] = 1.0/n\n",
    "    return y\n",
    "    \n",
    "p = Portfolio(prices, weights=prices.ffill().apply(f, axis=1))\n"
   ]
  },
  {
   "cell_type": "code",
   "execution_count": 5,
   "metadata": {},
   "outputs": [
    {
     "name": "stdout",
     "output_type": "stream",
     "text": [
      "['_Portfolio__before', '_Portfolio__prices', '_Portfolio__series2frame', '_Portfolio__weights', '__class__', '__delattr__', '__dict__', '__dir__', '__doc__', '__eq__', '__format__', '__ge__', '__getattribute__', '__gt__', '__hash__', '__init__', '__init_subclass__', '__le__', '__lt__', '__module__', '__mul__', '__ne__', '__new__', '__reduce__', '__reduce_ex__', '__repr__', '__rmul__', '__setattr__', '__sizeof__', '__str__', '__subclasshook__', '__weakref__', 'apply', 'asset_returns', 'assets', 'cash', 'copy', 'empty', 'forward', 'fromPosition', 'head', 'index', 'iron_threshold', 'iron_time', 'last_dates', 'leverage', 'merge', 'nav', 'position', 'prices', 'read_csv', 'rename', 'sector', 'state', 'subportfolio', 'tail', 'to_csv', 'to_frame', 'trading_days', 'truncate', 'weight_current', 'weighted_returns', 'weights']\n"
     ]
    }
   ],
   "source": [
    "print(dir(p))"
   ]
  },
  {
   "cell_type": "markdown",
   "metadata": {},
   "source": [
    "## Sector analysis"
   ]
  },
  {
   "cell_type": "markdown",
   "metadata": {},
   "source": [
    "It is possible to assign each asset to a sector via sectormaps. \n"
   ]
  },
  {
   "cell_type": "code",
   "execution_count": 10,
   "metadata": {},
   "outputs": [
    {
     "data": {
      "text/html": [
       "<div>\n",
       "<style scoped>\n",
       "    .dataframe tbody tr th:only-of-type {\n",
       "        vertical-align: middle;\n",
       "    }\n",
       "\n",
       "    .dataframe tbody tr th {\n",
       "        vertical-align: top;\n",
       "    }\n",
       "\n",
       "    .dataframe thead th {\n",
       "        text-align: right;\n",
       "    }\n",
       "</style>\n",
       "<table border=\"1\" class=\"dataframe\">\n",
       "  <thead>\n",
       "    <tr style=\"text-align: right;\">\n",
       "      <th></th>\n",
       "      <th>S1</th>\n",
       "      <th>S2</th>\n",
       "      <th>S3</th>\n",
       "    </tr>\n",
       "  </thead>\n",
       "  <tbody>\n",
       "    <tr>\n",
       "      <th>2015-04-16</th>\n",
       "      <td>0.285714</td>\n",
       "      <td>0.571429</td>\n",
       "      <td>0.142857</td>\n",
       "    </tr>\n",
       "    <tr>\n",
       "      <th>2015-04-17</th>\n",
       "      <td>0.285714</td>\n",
       "      <td>0.571429</td>\n",
       "      <td>0.142857</td>\n",
       "    </tr>\n",
       "    <tr>\n",
       "      <th>2015-04-20</th>\n",
       "      <td>0.285714</td>\n",
       "      <td>0.571429</td>\n",
       "      <td>0.142857</td>\n",
       "    </tr>\n",
       "    <tr>\n",
       "      <th>2015-04-21</th>\n",
       "      <td>0.285714</td>\n",
       "      <td>0.571429</td>\n",
       "      <td>0.142857</td>\n",
       "    </tr>\n",
       "    <tr>\n",
       "      <th>2015-04-22</th>\n",
       "      <td>0.285714</td>\n",
       "      <td>0.571429</td>\n",
       "      <td>0.142857</td>\n",
       "    </tr>\n",
       "  </tbody>\n",
       "</table>\n",
       "</div>"
      ],
      "text/plain": [
       "                  S1        S2        S3\n",
       "2015-04-16  0.285714  0.571429  0.142857\n",
       "2015-04-17  0.285714  0.571429  0.142857\n",
       "2015-04-20  0.285714  0.571429  0.142857\n",
       "2015-04-21  0.285714  0.571429  0.142857\n",
       "2015-04-22  0.285714  0.571429  0.142857"
      ]
     },
     "execution_count": 10,
     "metadata": {},
     "output_type": "execute_result"
    }
   ],
   "source": [
    "sectormap = {\"A\": \"S1\", \"B\": \"S1\", \"C\": \"S2\", \"D\": \"S2\", \"E\": \"S2\", \"F\": \"S2\", \"G\": \"S3\"}\n",
    "p.tail(5).sector(symbolmap=sectormap)"
   ]
  },
  {
   "cell_type": "code",
   "execution_count": 11,
   "metadata": {},
   "outputs": [
    {
     "data": {
      "application/vnd.jupyter.widget-view+json": {
       "model_id": "4fc71f4bc31f4cd7b9fc10d339824ad1",
       "version_major": 2,
       "version_minor": 0
      }
     },
     "metadata": {},
     "output_type": "display_data"
    }
   ],
   "source": [
    "TableDisplay(p.state)"
   ]
  },
  {
   "cell_type": "markdown",
   "metadata": {},
   "source": [
    "## Top/Flop"
   ]
  },
  {
   "cell_type": "code",
   "execution_count": 12,
   "metadata": {},
   "outputs": [
    {
     "ename": "AttributeError",
     "evalue": "'Portfolio' object has no attribute 'top_flop'",
     "output_type": "error",
     "traceback": [
      "\u001b[0;31m---------------------------------------------------------------------------\u001b[0m",
      "\u001b[0;31mAttributeError\u001b[0m                            Traceback (most recent call last)",
      "\u001b[0;32m<ipython-input-12-183c71b8e852>\u001b[0m in \u001b[0;36m<module>\u001b[0;34m\u001b[0m\n\u001b[0;32m----> 1\u001b[0;31m \u001b[0mp\u001b[0m\u001b[0;34m.\u001b[0m\u001b[0mtop_flop\u001b[0m\u001b[0;34m(\u001b[0m\u001b[0;34m)\u001b[0m\u001b[0;34m.\u001b[0m\u001b[0mytd\u001b[0m\u001b[0;34m.\u001b[0m\u001b[0mtop\u001b[0m\u001b[0;34m\u001b[0m\u001b[0;34m\u001b[0m\u001b[0m\n\u001b[0m",
      "\u001b[0;31mAttributeError\u001b[0m: 'Portfolio' object has no attribute 'top_flop'"
     ]
    }
   ],
   "source": [
    "p.top_flop().ytd.top"
   ]
  },
  {
   "cell_type": "markdown",
   "metadata": {},
   "source": [
    "## Rebalancing\n",
    "\n",
    "Daily rebalancing is somewhat expensive. It is possible to \"iron\" the portfolio and rebalance either\n",
    "* on a fixed grid in time\n",
    "* with respect to threshold that shall not be exceeded"
   ]
  },
  {
   "cell_type": "code",
   "execution_count": 13,
   "metadata": {},
   "outputs": [],
   "source": [
    "x = p.iron_time(\"3M\")"
   ]
  },
  {
   "cell_type": "code",
   "execution_count": 14,
   "metadata": {},
   "outputs": [
    {
     "data": {
      "text/plain": [
       "[Timestamp('2013-01-31 00:00:00'),\n",
       " Timestamp('2013-04-30 00:00:00'),\n",
       " Timestamp('2013-07-31 00:00:00'),\n",
       " Timestamp('2013-10-31 00:00:00'),\n",
       " Timestamp('2014-01-31 00:00:00'),\n",
       " Timestamp('2014-04-30 00:00:00'),\n",
       " Timestamp('2014-07-31 00:00:00'),\n",
       " Timestamp('2014-10-31 00:00:00'),\n",
       " Timestamp('2015-01-30 00:00:00'),\n",
       " Timestamp('2015-04-22 00:00:00')]"
      ]
     },
     "execution_count": 14,
     "metadata": {},
     "output_type": "execute_result"
    }
   ],
   "source": [
    "# The pro\n",
    "x.trading_days"
   ]
  },
  {
   "cell_type": "code",
   "execution_count": 10,
   "metadata": {},
   "outputs": [
    {
     "data": {
      "text/html": [
       "<div>\n",
       "<style scoped>\n",
       "    .dataframe tbody tr th:only-of-type {\n",
       "        vertical-align: middle;\n",
       "    }\n",
       "\n",
       "    .dataframe tbody tr th {\n",
       "        vertical-align: top;\n",
       "    }\n",
       "\n",
       "    .dataframe thead th {\n",
       "        text-align: right;\n",
       "    }\n",
       "</style>\n",
       "<table border=\"1\" class=\"dataframe\">\n",
       "  <thead>\n",
       "    <tr style=\"text-align: right;\">\n",
       "      <th></th>\n",
       "      <th>Month-to-Date</th>\n",
       "      <th>Year-to-Date</th>\n",
       "      <th>30-Apr-14</th>\n",
       "      <th>31-Jul-14</th>\n",
       "      <th>31-Oct-14</th>\n",
       "      <th>30-Jan-15</th>\n",
       "      <th>22-Apr-15</th>\n",
       "      <th>Extrapolated</th>\n",
       "      <th>Gap</th>\n",
       "      <th>group</th>\n",
       "      <th>Sector Weight</th>\n",
       "      <th>Relative Sector</th>\n",
       "    </tr>\n",
       "    <tr>\n",
       "      <th>Symbol</th>\n",
       "      <th></th>\n",
       "      <th></th>\n",
       "      <th></th>\n",
       "      <th></th>\n",
       "      <th></th>\n",
       "      <th></th>\n",
       "      <th></th>\n",
       "      <th></th>\n",
       "      <th></th>\n",
       "      <th></th>\n",
       "      <th></th>\n",
       "      <th></th>\n",
       "    </tr>\n",
       "  </thead>\n",
       "  <tbody>\n",
       "    <tr>\n",
       "      <th>A</th>\n",
       "      <td>0.001866</td>\n",
       "      <td>0.003248</td>\n",
       "      <td>0.142857</td>\n",
       "      <td>0.142857</td>\n",
       "      <td>0.142857</td>\n",
       "      <td>0.142857</td>\n",
       "      <td>0.142857</td>\n",
       "      <td>0.126767</td>\n",
       "      <td>0.016090</td>\n",
       "      <td>S1</td>\n",
       "      <td>0.281443</td>\n",
       "      <td>0.450420</td>\n",
       "    </tr>\n",
       "    <tr>\n",
       "      <th>B</th>\n",
       "      <td>0.017239</td>\n",
       "      <td>0.025121</td>\n",
       "      <td>0.142857</td>\n",
       "      <td>0.142857</td>\n",
       "      <td>0.142857</td>\n",
       "      <td>0.142857</td>\n",
       "      <td>0.142857</td>\n",
       "      <td>0.154675</td>\n",
       "      <td>-0.011818</td>\n",
       "      <td>S1</td>\n",
       "      <td>0.281443</td>\n",
       "      <td>0.549580</td>\n",
       "    </tr>\n",
       "    <tr>\n",
       "      <th>C</th>\n",
       "      <td>0.007801</td>\n",
       "      <td>0.012649</td>\n",
       "      <td>0.142857</td>\n",
       "      <td>0.142857</td>\n",
       "      <td>0.142857</td>\n",
       "      <td>0.142857</td>\n",
       "      <td>0.142857</td>\n",
       "      <td>0.155355</td>\n",
       "      <td>-0.012498</td>\n",
       "      <td>S2</td>\n",
       "      <td>0.586778</td>\n",
       "      <td>0.264760</td>\n",
       "    </tr>\n",
       "    <tr>\n",
       "      <th>D</th>\n",
       "      <td>0.004658</td>\n",
       "      <td>-0.004792</td>\n",
       "      <td>0.142857</td>\n",
       "      <td>0.142857</td>\n",
       "      <td>0.142857</td>\n",
       "      <td>0.142857</td>\n",
       "      <td>0.142857</td>\n",
       "      <td>0.137544</td>\n",
       "      <td>0.005313</td>\n",
       "      <td>S2</td>\n",
       "      <td>0.586778</td>\n",
       "      <td>0.234406</td>\n",
       "    </tr>\n",
       "    <tr>\n",
       "      <th>E</th>\n",
       "      <td>0.002034</td>\n",
       "      <td>0.002740</td>\n",
       "      <td>0.142857</td>\n",
       "      <td>0.142857</td>\n",
       "      <td>0.142857</td>\n",
       "      <td>0.142857</td>\n",
       "      <td>0.142857</td>\n",
       "      <td>0.142501</td>\n",
       "      <td>0.000356</td>\n",
       "      <td>S2</td>\n",
       "      <td>0.586778</td>\n",
       "      <td>0.242853</td>\n",
       "    </tr>\n",
       "    <tr>\n",
       "      <th>F</th>\n",
       "      <td>0.001931</td>\n",
       "      <td>0.026376</td>\n",
       "      <td>0.142857</td>\n",
       "      <td>0.142857</td>\n",
       "      <td>0.142857</td>\n",
       "      <td>0.142857</td>\n",
       "      <td>0.142857</td>\n",
       "      <td>0.151378</td>\n",
       "      <td>-0.008520</td>\n",
       "      <td>S2</td>\n",
       "      <td>0.586778</td>\n",
       "      <td>0.257981</td>\n",
       "    </tr>\n",
       "    <tr>\n",
       "      <th>G</th>\n",
       "      <td>-0.000929</td>\n",
       "      <td>0.005084</td>\n",
       "      <td>0.142857</td>\n",
       "      <td>0.142857</td>\n",
       "      <td>0.142857</td>\n",
       "      <td>0.142857</td>\n",
       "      <td>0.142857</td>\n",
       "      <td>0.131780</td>\n",
       "      <td>0.011077</td>\n",
       "      <td>S3</td>\n",
       "      <td>0.131780</td>\n",
       "      <td>1.000000</td>\n",
       "    </tr>\n",
       "  </tbody>\n",
       "</table>\n",
       "</div>"
      ],
      "text/plain": [
       "        Month-to-Date  Year-to-Date  30-Apr-14  31-Jul-14  31-Oct-14  \\\n",
       "Symbol                                                                 \n",
       "A            0.001866      0.003248   0.142857   0.142857   0.142857   \n",
       "B            0.017239      0.025121   0.142857   0.142857   0.142857   \n",
       "C            0.007801      0.012649   0.142857   0.142857   0.142857   \n",
       "D            0.004658     -0.004792   0.142857   0.142857   0.142857   \n",
       "E            0.002034      0.002740   0.142857   0.142857   0.142857   \n",
       "F            0.001931      0.026376   0.142857   0.142857   0.142857   \n",
       "G           -0.000929      0.005084   0.142857   0.142857   0.142857   \n",
       "\n",
       "        30-Jan-15  22-Apr-15  Extrapolated       Gap group  Sector Weight  \\\n",
       "Symbol                                                                      \n",
       "A        0.142857   0.142857      0.126767  0.016090    S1       0.281443   \n",
       "B        0.142857   0.142857      0.154675 -0.011818    S1       0.281443   \n",
       "C        0.142857   0.142857      0.155355 -0.012498    S2       0.586778   \n",
       "D        0.142857   0.142857      0.137544  0.005313    S2       0.586778   \n",
       "E        0.142857   0.142857      0.142501  0.000356    S2       0.586778   \n",
       "F        0.142857   0.142857      0.151378 -0.008520    S2       0.586778   \n",
       "G        0.142857   0.142857      0.131780  0.011077    S3       0.131780   \n",
       "\n",
       "        Relative Sector  \n",
       "Symbol                   \n",
       "A              0.450420  \n",
       "B              0.549580  \n",
       "C              0.264760  \n",
       "D              0.234406  \n",
       "E              0.242853  \n",
       "F              0.257981  \n",
       "G              1.000000  "
      ]
     },
     "execution_count": 10,
     "metadata": {},
     "output_type": "execute_result"
    }
   ],
   "source": [
    "# The portfolio is rebalanced at \n",
    "x.state"
   ]
  },
  {
   "cell_type": "code",
   "execution_count": null,
   "metadata": {},
   "outputs": [],
   "source": []
  }
 ],
 "metadata": {
  "kernelspec": {
   "display_name": "Python 3",
   "language": "python",
   "name": "python3"
  },
  "language_info": {
   "codemirror_mode": {
    "name": "ipython",
    "version": 3
   },
   "file_extension": ".py",
   "mimetype": "text/x-python",
   "name": "python",
   "nbconvert_exporter": "python",
   "pygments_lexer": "ipython3",
   "version": "3.7.3"
  },
  "toc": {
   "base_numbering": 1,
   "nav_menu": {},
   "number_sections": false,
   "sideBar": false,
   "skip_h1_title": false,
   "title_cell": "Table of Contents",
   "title_sidebar": "Contents",
   "toc_cell": false,
   "toc_position": {},
   "toc_section_display": false,
   "toc_window_display": false
  }
 },
 "nbformat": 4,
 "nbformat_minor": 2
}
