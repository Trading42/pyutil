{
 "cells": [
  {
   "cell_type": "markdown",
   "metadata": {},
   "source": [
    "# Portfolio"
   ]
  },
  {
   "cell_type": "code",
   "execution_count": 1,
   "metadata": {},
   "outputs": [],
   "source": [
    "import pandas as pd\n",
    "import numpy as np\n",
    "from beakerx import *\n",
    "\n",
    "import warnings\n",
    "warnings.simplefilter(action='ignore', category=FutureWarning)"
   ]
  },
  {
   "cell_type": "code",
   "execution_count": 2,
   "metadata": {},
   "outputs": [],
   "source": [
    "# load prices from a csv file\n",
    "prices=pd.read_csv(\"data/price.csv\", index_col=0, header=0, parse_dates=True)"
   ]
  },
  {
   "cell_type": "code",
   "execution_count": 3,
   "metadata": {},
   "outputs": [
    {
     "data": {
      "application/vnd.jupyter.widget-view+json": {
       "model_id": "5c31b970ce6b4fb5b7ff008ed56b975b",
       "version_major": 2,
       "version_minor": 0
      }
     },
     "metadata": {},
     "output_type": "display_data"
    }
   ],
   "source": [
    "# plot them using beakerx\n",
    "SimpleTimePlot(prices, prices.keys())"
   ]
  },
  {
   "cell_type": "code",
   "execution_count": 4,
   "metadata": {},
   "outputs": [],
   "source": [
    "# construct a 1/n portfolio, assets that come in later will initially not have any weight\n",
    "def f(x):\n",
    "    # how many assets are alive?\n",
    "    n = x.notnull().sum()\n",
    "    # create a new series (this seems to be slow, there must be a more elegant solution?)\n",
    "    y = pd.Series(index=x.index)\n",
    "    if n > 0:\n",
    "        y[x.notnull()] = 1.0/n\n",
    "    return y"
   ]
  },
  {
   "cell_type": "code",
   "execution_count": 5,
   "metadata": {},
   "outputs": [
    {
     "data": {
      "text/html": [
       "<div>\n",
       "<style scoped>\n",
       "    .dataframe tbody tr th:only-of-type {\n",
       "        vertical-align: middle;\n",
       "    }\n",
       "\n",
       "    .dataframe tbody tr th {\n",
       "        vertical-align: top;\n",
       "    }\n",
       "\n",
       "    .dataframe thead th {\n",
       "        text-align: right;\n",
       "    }\n",
       "</style>\n",
       "<table border=\"1\" class=\"dataframe\">\n",
       "  <thead>\n",
       "    <tr style=\"text-align: right;\">\n",
       "      <th></th>\n",
       "      <th>A</th>\n",
       "      <th>B</th>\n",
       "      <th>C</th>\n",
       "    </tr>\n",
       "  </thead>\n",
       "  <tbody>\n",
       "    <tr>\n",
       "      <th>0</th>\n",
       "      <td>0.5</td>\n",
       "      <td>0.5</td>\n",
       "      <td>NaN</td>\n",
       "    </tr>\n",
       "  </tbody>\n",
       "</table>\n",
       "</div>"
      ],
      "text/plain": [
       "     A    B   C\n",
       "0  0.5  0.5 NaN"
      ]
     },
     "execution_count": 5,
     "metadata": {},
     "output_type": "execute_result"
    }
   ],
   "source": [
    "p = pd.Series({\"A\": 10.0, \"B\": 20.0, \"C\": np.nan}) \n",
    "p = pd.DataFrame(p).transpose()\n",
    "g = p.apply(f, axis=1)\n",
    "g"
   ]
  },
  {
   "cell_type": "code",
   "execution_count": 13,
   "metadata": {},
   "outputs": [],
   "source": [
    "from pyutil.portfolio.portfolio import Portfolio\n",
    "p = Portfolio(prices=prices, weights=prices.ffill().apply(f, axis=1))"
   ]
  },
  {
   "cell_type": "code",
   "execution_count": 14,
   "metadata": {},
   "outputs": [
    {
     "name": "stdout",
     "output_type": "stream",
     "text": [
      "['_Portfolio__prices', '_Portfolio__series2frame', '_Portfolio__weights', '__class__', '__delattr__', '__dict__', '__dir__', '__doc__', '__eq__', '__format__', '__ge__', '__getattribute__', '__gt__', '__hash__', '__init__', '__init_subclass__', '__le__', '__lt__', '__module__', '__mul__', '__ne__', '__new__', '__reduce__', '__reduce_ex__', '__repr__', '__rmul__', '__setattr__', '__setitem__', '__sizeof__', '__str__', '__subclasshook__', '__weakref__', 'apply', 'asset_returns', 'assets', 'cash', 'copy', 'empty', 'fromPosition', 'head', 'index', 'iron_threshold', 'iron_time', 'leverage', 'loop', 'merge', 'nav', 'position', 'prices', 'rename', 'returns', 'sector', 'subportfolio', 'tail', 'to_frame', 'truncate', 'weight_current', 'weighted_returns', 'weights']\n"
     ]
    }
   ],
   "source": [
    "print(dir(p))"
   ]
  },
  {
   "cell_type": "markdown",
   "metadata": {},
   "source": [
    "## Sector analysis"
   ]
  },
  {
   "cell_type": "markdown",
   "metadata": {},
   "source": [
    "It is possible to assign each asset to a sector via sectormaps. \n"
   ]
  },
  {
   "cell_type": "code",
   "execution_count": 15,
   "metadata": {},
   "outputs": [
    {
     "data": {
      "text/html": [
       "<div>\n",
       "<style scoped>\n",
       "    .dataframe tbody tr th:only-of-type {\n",
       "        vertical-align: middle;\n",
       "    }\n",
       "\n",
       "    .dataframe tbody tr th {\n",
       "        vertical-align: top;\n",
       "    }\n",
       "\n",
       "    .dataframe thead th {\n",
       "        text-align: right;\n",
       "    }\n",
       "</style>\n",
       "<table border=\"1\" class=\"dataframe\">\n",
       "  <thead>\n",
       "    <tr style=\"text-align: right;\">\n",
       "      <th></th>\n",
       "      <th>S1</th>\n",
       "      <th>S2</th>\n",
       "      <th>S3</th>\n",
       "    </tr>\n",
       "  </thead>\n",
       "  <tbody>\n",
       "    <tr>\n",
       "      <th>2015-04-16</th>\n",
       "      <td>0.285714</td>\n",
       "      <td>0.571429</td>\n",
       "      <td>0.142857</td>\n",
       "    </tr>\n",
       "    <tr>\n",
       "      <th>2015-04-17</th>\n",
       "      <td>0.285714</td>\n",
       "      <td>0.571429</td>\n",
       "      <td>0.142857</td>\n",
       "    </tr>\n",
       "    <tr>\n",
       "      <th>2015-04-20</th>\n",
       "      <td>0.285714</td>\n",
       "      <td>0.571429</td>\n",
       "      <td>0.142857</td>\n",
       "    </tr>\n",
       "    <tr>\n",
       "      <th>2015-04-21</th>\n",
       "      <td>0.285714</td>\n",
       "      <td>0.571429</td>\n",
       "      <td>0.142857</td>\n",
       "    </tr>\n",
       "    <tr>\n",
       "      <th>2015-04-22</th>\n",
       "      <td>0.285714</td>\n",
       "      <td>0.571429</td>\n",
       "      <td>0.142857</td>\n",
       "    </tr>\n",
       "  </tbody>\n",
       "</table>\n",
       "</div>"
      ],
      "text/plain": [
       "                  S1        S2        S3\n",
       "2015-04-16  0.285714  0.571429  0.142857\n",
       "2015-04-17  0.285714  0.571429  0.142857\n",
       "2015-04-20  0.285714  0.571429  0.142857\n",
       "2015-04-21  0.285714  0.571429  0.142857\n",
       "2015-04-22  0.285714  0.571429  0.142857"
      ]
     },
     "execution_count": 15,
     "metadata": {},
     "output_type": "execute_result"
    }
   ],
   "source": [
    "sectormap = {\"A\": \"S1\", \"B\": \"S1\", \"C\": \"S2\", \"D\": \"S2\", \"E\": \"S2\", \"F\": \"S2\", \"G\": \"S3\"}\n",
    "p.tail(5).sector(symbolmap=sectormap)"
   ]
  },
  {
   "cell_type": "markdown",
   "metadata": {},
   "source": [
    "## Rebalancing\n",
    "\n",
    "Daily rebalancing is somewhat expensive. It is possible to \"iron\" the portfolio and rebalance either\n",
    "* on a fixed grid in time\n",
    "* with respect to threshold that shall not be exceeded"
   ]
  },
  {
   "cell_type": "code",
   "execution_count": 16,
   "metadata": {},
   "outputs": [
    {
     "data": {
      "text/html": [
       "<div>\n",
       "<style scoped>\n",
       "    .dataframe tbody tr th:only-of-type {\n",
       "        vertical-align: middle;\n",
       "    }\n",
       "\n",
       "    .dataframe tbody tr th {\n",
       "        vertical-align: top;\n",
       "    }\n",
       "\n",
       "    .dataframe thead th {\n",
       "        text-align: right;\n",
       "    }\n",
       "</style>\n",
       "<table border=\"1\" class=\"dataframe\">\n",
       "  <thead>\n",
       "    <tr style=\"text-align: right;\">\n",
       "      <th></th>\n",
       "      <th>A</th>\n",
       "      <th>B</th>\n",
       "      <th>C</th>\n",
       "      <th>D</th>\n",
       "      <th>E</th>\n",
       "      <th>F</th>\n",
       "      <th>G</th>\n",
       "    </tr>\n",
       "  </thead>\n",
       "  <tbody>\n",
       "    <tr>\n",
       "      <th>2013-01-01</th>\n",
       "      <td>85.350012</td>\n",
       "      <td>6.128057</td>\n",
       "      <td>2.283884</td>\n",
       "      <td>38.247002</td>\n",
       "      <td>97.685441</td>\n",
       "      <td>52.690509</td>\n",
       "      <td>56.712072</td>\n",
       "    </tr>\n",
       "    <tr>\n",
       "      <th>2013-01-02</th>\n",
       "      <td>85.254544</td>\n",
       "      <td>6.121203</td>\n",
       "      <td>2.281329</td>\n",
       "      <td>38.204221</td>\n",
       "      <td>97.576176</td>\n",
       "      <td>52.631573</td>\n",
       "      <td>56.648638</td>\n",
       "    </tr>\n",
       "    <tr>\n",
       "      <th>2013-01-03</th>\n",
       "      <td>85.409885</td>\n",
       "      <td>6.132356</td>\n",
       "      <td>2.285486</td>\n",
       "      <td>38.273832</td>\n",
       "      <td>97.753967</td>\n",
       "      <td>52.727471</td>\n",
       "      <td>56.751856</td>\n",
       "    </tr>\n",
       "    <tr>\n",
       "      <th>2013-01-04</th>\n",
       "      <td>85.612939</td>\n",
       "      <td>6.146935</td>\n",
       "      <td>2.290919</td>\n",
       "      <td>38.364825</td>\n",
       "      <td>97.986368</td>\n",
       "      <td>52.852826</td>\n",
       "      <td>56.886778</td>\n",
       "    </tr>\n",
       "    <tr>\n",
       "      <th>2013-01-07</th>\n",
       "      <td>85.828507</td>\n",
       "      <td>6.162413</td>\n",
       "      <td>2.296688</td>\n",
       "      <td>38.461425</td>\n",
       "      <td>98.233092</td>\n",
       "      <td>52.985906</td>\n",
       "      <td>57.030015</td>\n",
       "    </tr>\n",
       "    <tr>\n",
       "      <th>...</th>\n",
       "      <td>...</td>\n",
       "      <td>...</td>\n",
       "      <td>...</td>\n",
       "      <td>...</td>\n",
       "      <td>...</td>\n",
       "      <td>...</td>\n",
       "      <td>...</td>\n",
       "    </tr>\n",
       "    <tr>\n",
       "      <th>2015-04-16</th>\n",
       "      <td>105.014015</td>\n",
       "      <td>5.501023</td>\n",
       "      <td>2.874025</td>\n",
       "      <td>51.837721</td>\n",
       "      <td>67.576200</td>\n",
       "      <td>40.225647</td>\n",
       "      <td>42.754070</td>\n",
       "    </tr>\n",
       "    <tr>\n",
       "      <th>2015-04-17</th>\n",
       "      <td>105.890986</td>\n",
       "      <td>5.546962</td>\n",
       "      <td>2.898026</td>\n",
       "      <td>52.270617</td>\n",
       "      <td>68.140527</td>\n",
       "      <td>40.561571</td>\n",
       "      <td>43.111108</td>\n",
       "    </tr>\n",
       "    <tr>\n",
       "      <th>2015-04-20</th>\n",
       "      <td>106.102349</td>\n",
       "      <td>5.558034</td>\n",
       "      <td>2.903810</td>\n",
       "      <td>52.374952</td>\n",
       "      <td>68.276539</td>\n",
       "      <td>40.642534</td>\n",
       "      <td>43.197160</td>\n",
       "    </tr>\n",
       "    <tr>\n",
       "      <th>2015-04-21</th>\n",
       "      <td>105.666160</td>\n",
       "      <td>5.535185</td>\n",
       "      <td>2.891873</td>\n",
       "      <td>52.159637</td>\n",
       "      <td>67.995853</td>\n",
       "      <td>40.475451</td>\n",
       "      <td>43.019576</td>\n",
       "    </tr>\n",
       "    <tr>\n",
       "      <th>2015-04-22</th>\n",
       "      <td>118.989116</td>\n",
       "      <td>5.108456</td>\n",
       "      <td>2.657250</td>\n",
       "      <td>54.134085</td>\n",
       "      <td>68.115112</td>\n",
       "      <td>38.168828</td>\n",
       "      <td>46.601124</td>\n",
       "    </tr>\n",
       "  </tbody>\n",
       "</table>\n",
       "<p>602 rows × 7 columns</p>\n",
       "</div>"
      ],
      "text/plain": [
       "                     A         B         C          D          E          F  \\\n",
       "2013-01-01   85.350012  6.128057  2.283884  38.247002  97.685441  52.690509   \n",
       "2013-01-02   85.254544  6.121203  2.281329  38.204221  97.576176  52.631573   \n",
       "2013-01-03   85.409885  6.132356  2.285486  38.273832  97.753967  52.727471   \n",
       "2013-01-04   85.612939  6.146935  2.290919  38.364825  97.986368  52.852826   \n",
       "2013-01-07   85.828507  6.162413  2.296688  38.461425  98.233092  52.985906   \n",
       "...                ...       ...       ...        ...        ...        ...   \n",
       "2015-04-16  105.014015  5.501023  2.874025  51.837721  67.576200  40.225647   \n",
       "2015-04-17  105.890986  5.546962  2.898026  52.270617  68.140527  40.561571   \n",
       "2015-04-20  106.102349  5.558034  2.903810  52.374952  68.276539  40.642534   \n",
       "2015-04-21  105.666160  5.535185  2.891873  52.159637  67.995853  40.475451   \n",
       "2015-04-22  118.989116  5.108456  2.657250  54.134085  68.115112  38.168828   \n",
       "\n",
       "                    G  \n",
       "2013-01-01  56.712072  \n",
       "2013-01-02  56.648638  \n",
       "2013-01-03  56.751856  \n",
       "2013-01-04  56.886778  \n",
       "2013-01-07  57.030015  \n",
       "...               ...  \n",
       "2015-04-16  42.754070  \n",
       "2015-04-17  43.111108  \n",
       "2015-04-20  43.197160  \n",
       "2015-04-21  43.019576  \n",
       "2015-04-22  46.601124  \n",
       "\n",
       "[602 rows x 7 columns]"
      ]
     },
     "execution_count": 16,
     "metadata": {},
     "output_type": "execute_result"
    }
   ],
   "source": [
    "x = p.iron_time(\"3M\")\n",
    "1e6*x.position"
   ]
  },
  {
   "cell_type": "code",
   "execution_count": null,
   "metadata": {},
   "outputs": [],
   "source": []
  }
 ],
 "metadata": {
  "kernelspec": {
   "display_name": "Python 3",
   "language": "python",
   "name": "python3"
  },
  "language_info": {
   "codemirror_mode": {
    "name": "ipython",
    "version": 3
   },
   "file_extension": ".py",
   "mimetype": "text/x-python",
   "name": "python",
   "nbconvert_exporter": "python",
   "pygments_lexer": "ipython3",
   "version": "3.7.3"
  },
  "toc": {
   "base_numbering": 1,
   "nav_menu": {},
   "number_sections": false,
   "sideBar": false,
   "skip_h1_title": false,
   "title_cell": "Table of Contents",
   "title_sidebar": "Contents",
   "toc_cell": false,
   "toc_position": {},
   "toc_section_display": false,
   "toc_window_display": false
  },
  "pycharm": {
   "stem_cell": {
    "cell_type": "raw",
    "source": [],
    "metadata": {
     "collapsed": false
    }
   }
  }
 },
 "nbformat": 4,
 "nbformat_minor": 2
}