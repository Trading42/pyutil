{
 "cells": [
  {
   "cell_type": "code",
   "execution_count": 1,
   "metadata": {},
   "outputs": [],
   "source": [
    "import pandas as pd\n",
    "from beakerx import *"
   ]
  },
  {
   "cell_type": "code",
   "execution_count": 2,
   "metadata": {},
   "outputs": [],
   "source": [
    "prices=pd.read_csv(\"data/price.csv\", index_col=0, header=0, parse_dates=True)"
   ]
  },
  {
   "cell_type": "code",
   "execution_count": 5,
   "metadata": {},
   "outputs": [
    {
     "data": {
      "text/html": [
       "<div>\n",
       "<style scoped>\n",
       "    .dataframe tbody tr th:only-of-type {\n",
       "        vertical-align: middle;\n",
       "    }\n",
       "\n",
       "    .dataframe tbody tr th {\n",
       "        vertical-align: top;\n",
       "    }\n",
       "\n",
       "    .dataframe thead th {\n",
       "        text-align: right;\n",
       "    }\n",
       "</style>\n",
       "<table border=\"1\" class=\"dataframe\">\n",
       "  <thead>\n",
       "    <tr style=\"text-align: right;\">\n",
       "      <th></th>\n",
       "      <th>Jan</th>\n",
       "      <th>Feb</th>\n",
       "      <th>Mar</th>\n",
       "      <th>Apr</th>\n",
       "      <th>May</th>\n",
       "      <th>Jun</th>\n",
       "      <th>Jul</th>\n",
       "      <th>Aug</th>\n",
       "      <th>Sep</th>\n",
       "      <th>Oct</th>\n",
       "      <th>Nov</th>\n",
       "      <th>Dec</th>\n",
       "      <th>STDev</th>\n",
       "      <th>YTD</th>\n",
       "    </tr>\n",
       "    <tr>\n",
       "      <th>Year</th>\n",
       "      <th></th>\n",
       "      <th></th>\n",
       "      <th></th>\n",
       "      <th></th>\n",
       "      <th></th>\n",
       "      <th></th>\n",
       "      <th></th>\n",
       "      <th></th>\n",
       "      <th></th>\n",
       "      <th></th>\n",
       "      <th></th>\n",
       "      <th></th>\n",
       "      <th></th>\n",
       "      <th></th>\n",
       "    </tr>\n",
       "  </thead>\n",
       "  <tbody>\n",
       "    <tr>\n",
       "      <th>2015</th>\n",
       "      <td>0.083478</td>\n",
       "      <td>-0.054955</td>\n",
       "      <td>-0.024348</td>\n",
       "      <td>0.014286</td>\n",
       "      <td>NaN</td>\n",
       "      <td>NaN</td>\n",
       "      <td>NaN</td>\n",
       "      <td>NaN</td>\n",
       "      <td>NaN</td>\n",
       "      <td>NaN</td>\n",
       "      <td>NaN</td>\n",
       "      <td>NaN</td>\n",
       "      <td>0.206886</td>\n",
       "      <td>0.013276</td>\n",
       "    </tr>\n",
       "    <tr>\n",
       "      <th>2014</th>\n",
       "      <td>0.032265</td>\n",
       "      <td>0.065799</td>\n",
       "      <td>-0.031988</td>\n",
       "      <td>0.005872</td>\n",
       "      <td>-0.032380</td>\n",
       "      <td>0.062085</td>\n",
       "      <td>-0.033730</td>\n",
       "      <td>0.004101</td>\n",
       "      <td>-0.061849</td>\n",
       "      <td>-0.028705</td>\n",
       "      <td>-0.005173</td>\n",
       "      <td>0.014948</td>\n",
       "      <td>0.137691</td>\n",
       "      <td>-0.017244</td>\n",
       "    </tr>\n",
       "    <tr>\n",
       "      <th>2013</th>\n",
       "      <td>-0.006052</td>\n",
       "      <td>-0.050533</td>\n",
       "      <td>0.012136</td>\n",
       "      <td>-0.076310</td>\n",
       "      <td>-0.060152</td>\n",
       "      <td>-0.110489</td>\n",
       "      <td>0.073451</td>\n",
       "      <td>0.052745</td>\n",
       "      <td>-0.047457</td>\n",
       "      <td>-0.004394</td>\n",
       "      <td>-0.052611</td>\n",
       "      <td>-0.038165</td>\n",
       "      <td>0.184380</td>\n",
       "      <td>-0.279684</td>\n",
       "    </tr>\n",
       "  </tbody>\n",
       "</table>\n",
       "</div>"
      ],
      "text/plain": [
       "           Jan       Feb       Mar       Apr       May       Jun       Jul  \\\n",
       "Year                                                                         \n",
       "2015  0.083478 -0.054955 -0.024348  0.014286       NaN       NaN       NaN   \n",
       "2014  0.032265  0.065799 -0.031988  0.005872 -0.032380  0.062085 -0.033730   \n",
       "2013 -0.006052 -0.050533  0.012136 -0.076310 -0.060152 -0.110489  0.073451   \n",
       "\n",
       "           Aug       Sep       Oct       Nov       Dec     STDev       YTD  \n",
       "Year                                                                        \n",
       "2015       NaN       NaN       NaN       NaN       NaN  0.206886  0.013276  \n",
       "2014  0.004101 -0.061849 -0.028705 -0.005173  0.014948  0.137691 -0.017244  \n",
       "2013  0.052745 -0.047457 -0.004394 -0.052611 -0.038165  0.184380 -0.279684  "
      ]
     },
     "execution_count": 5,
     "metadata": {},
     "output_type": "execute_result"
    }
   ],
   "source": [
    "from pyutil.performance.month import monthlytable\n",
    "m = monthlytable(prices[\"A\"])\n",
    "m"
   ]
  },
  {
   "cell_type": "code",
   "execution_count": 6,
   "metadata": {},
   "outputs": [
    {
     "data": {
      "application/vnd.jupyter.widget-view+json": {
       "model_id": "56947c565ffe4e888b89e9d2a1a083c3",
       "version_major": 2,
       "version_minor": 0
      }
     },
     "metadata": {},
     "output_type": "display_data"
    }
   ],
   "source": [
    "TableDisplay(m)"
   ]
  }
 ],
 "metadata": {
  "kernelspec": {
   "display_name": "Python 3",
   "language": "python",
   "name": "python3"
  },
  "language_info": {
   "codemirror_mode": {
    "name": "ipython",
    "version": 3
   },
   "file_extension": ".py",
   "mimetype": "text/x-python",
   "name": "python",
   "nbconvert_exporter": "python",
   "pygments_lexer": "ipython3",
   "version": "3.7.2"
  },
  "toc": {
   "base_numbering": 1,
   "nav_menu": {},
   "number_sections": false,
   "sideBar": false,
   "skip_h1_title": false,
   "title_cell": "Table of Contents",
   "title_sidebar": "Contents",
   "toc_cell": false,
   "toc_position": {},
   "toc_section_display": false,
   "toc_window_display": false
  }
 },
 "nbformat": 4,
 "nbformat_minor": 2
}
