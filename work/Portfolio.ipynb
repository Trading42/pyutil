{
 "cells": [
  {
   "cell_type": "markdown",
   "metadata": {},
   "source": [
    "# Portfolio"
   ]
  },
  {
   "cell_type": "code",
   "execution_count": 28,
   "metadata": {},
   "outputs": [],
   "source": [
    "import pandas as pd\n",
    "from beakerx import *"
   ]
  },
  {
   "cell_type": "code",
   "execution_count": 29,
   "metadata": {},
   "outputs": [],
   "source": [
    "prices=pd.read_csv(\"data/price.csv\", index_col=0, header=0, parse_dates=True)"
   ]
  },
  {
   "cell_type": "code",
   "execution_count": 30,
   "metadata": {},
   "outputs": [
    {
     "data": {},
     "metadata": {},
     "output_type": "display_data"
    }
   ],
   "source": [
    "SimpleTimePlot(prices, prices.keys())"
   ]
  },
  {
   "cell_type": "code",
   "execution_count": 32,
   "metadata": {},
   "outputs": [],
   "source": [
    "from pyutil.portfolio.portfolio import Portfolio\n",
    "\n",
    "# construct a 1/n portfolio, assets that come in later will initially not have any weight\n",
    "def f(x):\n",
    "    # how many assets are alive?\n",
    "    n = x.notnull().sum()\n",
    "    y = pd.Series(index=x.index)\n",
    "    if n > 0:\n",
    "        y[x.notnull()] = 1.0/n\n",
    "    return y\n",
    "    \n",
    "p = Portfolio(prices, weights=prices.ffill().apply(f, axis=1))\n"
   ]
  },
  {
   "cell_type": "code",
   "execution_count": 34,
   "metadata": {},
   "outputs": [
    {
     "name": "stdout",
     "output_type": "stream",
     "text": [
      "['_Portfolio__before', '_Portfolio__f', '_Portfolio__prices', '_Portfolio__r', '_Portfolio__weights', '__class__', '__delattr__', '__dict__', '__dir__', '__doc__', '__eq__', '__format__', '__ge__', '__getattribute__', '__gt__', '__hash__', '__init__', '__init_subclass__', '__le__', '__lt__', '__module__', '__mul__', '__ne__', '__new__', '__reduce__', '__reduce_ex__', '__repr__', '__rmul__', '__setattr__', '__sizeof__', '__str__', '__subclasshook__', '__weakref__', 'apply', 'asset_returns', 'assets', 'cash', 'copy', 'empty', 'forward', 'index', 'iron_threshold', 'iron_time', 'leverage', 'nav', 'position', 'prices', 'sector_weights', 'sector_weights_final', 'snapshot', 'state', 'subportfolio', 'tail', 'top_flop_mtd', 'top_flop_ytd', 'trading_days', 'truncate', 'weight_current', 'weighted_returns', 'weights']\n"
     ]
    }
   ],
   "source": [
    "print(dir(p))"
   ]
  },
  {
   "cell_type": "markdown",
   "metadata": {},
   "source": [
    "## Sector analysis"
   ]
  },
  {
   "cell_type": "markdown",
   "metadata": {},
   "source": [
    "It is possible to assign each asset to a sector via sectormaps. \n"
   ]
  },
  {
   "cell_type": "code",
   "execution_count": 55,
   "metadata": {},
   "outputs": [
    {
     "name": "stdout",
     "output_type": "stream",
     "text": [
      "['A', 'B', 'C', 'D', 'E', 'F', 'G']\n"
     ]
    },
    {
     "data": {
      "text/html": [
       "<div>\n",
       "<style scoped>\n",
       "    .dataframe tbody tr th:only-of-type {\n",
       "        vertical-align: middle;\n",
       "    }\n",
       "\n",
       "    .dataframe tbody tr th {\n",
       "        vertical-align: top;\n",
       "    }\n",
       "\n",
       "    .dataframe thead th {\n",
       "        text-align: right;\n",
       "    }\n",
       "</style>\n",
       "<table border=\"1\" class=\"dataframe\">\n",
       "  <thead>\n",
       "    <tr style=\"text-align: right;\">\n",
       "      <th></th>\n",
       "      <th>S1</th>\n",
       "      <th>S2</th>\n",
       "      <th>S3</th>\n",
       "    </tr>\n",
       "  </thead>\n",
       "  <tbody>\n",
       "    <tr>\n",
       "      <th>2015-04-16</th>\n",
       "      <td>0.285714</td>\n",
       "      <td>0.571429</td>\n",
       "      <td>0.142857</td>\n",
       "    </tr>\n",
       "    <tr>\n",
       "      <th>2015-04-17</th>\n",
       "      <td>0.285714</td>\n",
       "      <td>0.571429</td>\n",
       "      <td>0.142857</td>\n",
       "    </tr>\n",
       "    <tr>\n",
       "      <th>2015-04-20</th>\n",
       "      <td>0.285714</td>\n",
       "      <td>0.571429</td>\n",
       "      <td>0.142857</td>\n",
       "    </tr>\n",
       "    <tr>\n",
       "      <th>2015-04-21</th>\n",
       "      <td>0.285714</td>\n",
       "      <td>0.571429</td>\n",
       "      <td>0.142857</td>\n",
       "    </tr>\n",
       "    <tr>\n",
       "      <th>2015-04-22</th>\n",
       "      <td>0.285714</td>\n",
       "      <td>0.571429</td>\n",
       "      <td>0.142857</td>\n",
       "    </tr>\n",
       "  </tbody>\n",
       "</table>\n",
       "</div>"
      ],
      "text/plain": [
       "                  S1        S2        S3\n",
       "2015-04-16  0.285714  0.571429  0.142857\n",
       "2015-04-17  0.285714  0.571429  0.142857\n",
       "2015-04-20  0.285714  0.571429  0.142857\n",
       "2015-04-21  0.285714  0.571429  0.142857\n",
       "2015-04-22  0.285714  0.571429  0.142857"
      ]
     },
     "execution_count": 55,
     "metadata": {},
     "output_type": "execute_result"
    }
   ],
   "source": [
    "print(p.assets)\n",
    "sectormap = {\"A\": \"S1\", \"B\": \"S1\", \"C\": \"S2\", \"D\": \"S2\", \"E\": \"S2\", \"F\": \"S2\", \"G\": \"S3\"}\n",
    "p.tail(5).sector_weights(sectormap)"
   ]
  },
  {
   "cell_type": "code",
   "execution_count": 57,
   "metadata": {},
   "outputs": [
    {
     "name": "stdout",
     "output_type": "stream",
     "text": [
      "        15-Apr-15  16-Apr-15  17-Apr-15  20-Apr-15  22-Apr-15  Extrapolated  \\\n",
      "Symbol                                                                        \n",
      "A        0.142857   0.142857   0.142857   0.142857   0.142857      0.142563   \n",
      "B        0.142857   0.142857   0.142857   0.142857   0.142857      0.143357   \n",
      "C        0.142857   0.142857   0.142857   0.142857   0.142857      0.142771   \n",
      "D        0.142857   0.142857   0.142857   0.142857   0.142857      0.142100   \n",
      "E        0.142857   0.142857   0.142857   0.142857   0.142857      0.142771   \n",
      "F        0.142857   0.142857   0.142857   0.142857   0.142857      0.143669   \n",
      "G        0.142857   0.142857   0.142857   0.142857   0.142857      0.142771   \n",
      "\n",
      "             Gap  \n",
      "Symbol            \n",
      "A       0.000294  \n",
      "B      -0.000500  \n",
      "C       0.000086  \n",
      "D       0.000757  \n",
      "E       0.000086  \n",
      "F      -0.000811  \n",
      "G       0.000086  \n"
     ]
    }
   ],
   "source": [
    "print(p.state)"
   ]
  },
  {
   "cell_type": "markdown",
   "metadata": {},
   "source": [
    "## Rebalancing\n",
    "\n",
    "Daily rebalancing is somewhat expensive. It is possible to \"iron\" the portfolio and rebalance either\n",
    "* on a fixed grid in time\n",
    "* with respect to threshold that shall not be exceeded"
   ]
  },
  {
   "cell_type": "code",
   "execution_count": 68,
   "metadata": {},
   "outputs": [],
   "source": [
    "x = p.iron_time(\"3M\")"
   ]
  },
  {
   "cell_type": "code",
   "execution_count": 69,
   "metadata": {},
   "outputs": [
    {
     "data": {
      "text/plain": [
       "[Timestamp('2013-01-31 00:00:00'),\n",
       " Timestamp('2013-04-30 00:00:00'),\n",
       " Timestamp('2013-07-31 00:00:00'),\n",
       " Timestamp('2013-10-31 00:00:00'),\n",
       " Timestamp('2014-01-31 00:00:00'),\n",
       " Timestamp('2014-04-30 00:00:00'),\n",
       " Timestamp('2014-07-31 00:00:00'),\n",
       " Timestamp('2014-10-31 00:00:00'),\n",
       " Timestamp('2015-01-30 00:00:00'),\n",
       " Timestamp('2015-04-22 00:00:00')]"
      ]
     },
     "execution_count": 69,
     "metadata": {},
     "output_type": "execute_result"
    }
   ],
   "source": [
    "# The pro\n",
    "x.trading_days"
   ]
  },
  {
   "cell_type": "code",
   "execution_count": 70,
   "metadata": {},
   "outputs": [
    {
     "data": {
      "text/html": [
       "<div>\n",
       "<style scoped>\n",
       "    .dataframe tbody tr th:only-of-type {\n",
       "        vertical-align: middle;\n",
       "    }\n",
       "\n",
       "    .dataframe tbody tr th {\n",
       "        vertical-align: top;\n",
       "    }\n",
       "\n",
       "    .dataframe thead th {\n",
       "        text-align: right;\n",
       "    }\n",
       "</style>\n",
       "<table border=\"1\" class=\"dataframe\">\n",
       "  <thead>\n",
       "    <tr style=\"text-align: right;\">\n",
       "      <th></th>\n",
       "      <th>30-Apr-14</th>\n",
       "      <th>31-Jul-14</th>\n",
       "      <th>31-Oct-14</th>\n",
       "      <th>30-Jan-15</th>\n",
       "      <th>22-Apr-15</th>\n",
       "      <th>Extrapolated</th>\n",
       "      <th>Gap</th>\n",
       "    </tr>\n",
       "    <tr>\n",
       "      <th>Symbol</th>\n",
       "      <th></th>\n",
       "      <th></th>\n",
       "      <th></th>\n",
       "      <th></th>\n",
       "      <th></th>\n",
       "      <th></th>\n",
       "      <th></th>\n",
       "    </tr>\n",
       "  </thead>\n",
       "  <tbody>\n",
       "    <tr>\n",
       "      <th>A</th>\n",
       "      <td>0.142857</td>\n",
       "      <td>0.142857</td>\n",
       "      <td>0.142857</td>\n",
       "      <td>0.142857</td>\n",
       "      <td>0.142857</td>\n",
       "      <td>0.126767</td>\n",
       "      <td>0.016090</td>\n",
       "    </tr>\n",
       "    <tr>\n",
       "      <th>B</th>\n",
       "      <td>0.142857</td>\n",
       "      <td>0.142857</td>\n",
       "      <td>0.142857</td>\n",
       "      <td>0.142857</td>\n",
       "      <td>0.142857</td>\n",
       "      <td>0.154675</td>\n",
       "      <td>-0.011818</td>\n",
       "    </tr>\n",
       "    <tr>\n",
       "      <th>C</th>\n",
       "      <td>0.142857</td>\n",
       "      <td>0.142857</td>\n",
       "      <td>0.142857</td>\n",
       "      <td>0.142857</td>\n",
       "      <td>0.142857</td>\n",
       "      <td>0.155355</td>\n",
       "      <td>-0.012498</td>\n",
       "    </tr>\n",
       "    <tr>\n",
       "      <th>D</th>\n",
       "      <td>0.142857</td>\n",
       "      <td>0.142857</td>\n",
       "      <td>0.142857</td>\n",
       "      <td>0.142857</td>\n",
       "      <td>0.142857</td>\n",
       "      <td>0.137544</td>\n",
       "      <td>0.005313</td>\n",
       "    </tr>\n",
       "    <tr>\n",
       "      <th>E</th>\n",
       "      <td>0.142857</td>\n",
       "      <td>0.142857</td>\n",
       "      <td>0.142857</td>\n",
       "      <td>0.142857</td>\n",
       "      <td>0.142857</td>\n",
       "      <td>0.142501</td>\n",
       "      <td>0.000356</td>\n",
       "    </tr>\n",
       "    <tr>\n",
       "      <th>F</th>\n",
       "      <td>0.142857</td>\n",
       "      <td>0.142857</td>\n",
       "      <td>0.142857</td>\n",
       "      <td>0.142857</td>\n",
       "      <td>0.142857</td>\n",
       "      <td>0.151378</td>\n",
       "      <td>-0.008520</td>\n",
       "    </tr>\n",
       "    <tr>\n",
       "      <th>G</th>\n",
       "      <td>0.142857</td>\n",
       "      <td>0.142857</td>\n",
       "      <td>0.142857</td>\n",
       "      <td>0.142857</td>\n",
       "      <td>0.142857</td>\n",
       "      <td>0.131780</td>\n",
       "      <td>0.011077</td>\n",
       "    </tr>\n",
       "  </tbody>\n",
       "</table>\n",
       "</div>"
      ],
      "text/plain": [
       "        30-Apr-14  31-Jul-14  31-Oct-14  30-Jan-15  22-Apr-15  Extrapolated  \\\n",
       "Symbol                                                                        \n",
       "A        0.142857   0.142857   0.142857   0.142857   0.142857      0.126767   \n",
       "B        0.142857   0.142857   0.142857   0.142857   0.142857      0.154675   \n",
       "C        0.142857   0.142857   0.142857   0.142857   0.142857      0.155355   \n",
       "D        0.142857   0.142857   0.142857   0.142857   0.142857      0.137544   \n",
       "E        0.142857   0.142857   0.142857   0.142857   0.142857      0.142501   \n",
       "F        0.142857   0.142857   0.142857   0.142857   0.142857      0.151378   \n",
       "G        0.142857   0.142857   0.142857   0.142857   0.142857      0.131780   \n",
       "\n",
       "             Gap  \n",
       "Symbol            \n",
       "A       0.016090  \n",
       "B      -0.011818  \n",
       "C      -0.012498  \n",
       "D       0.005313  \n",
       "E       0.000356  \n",
       "F      -0.008520  \n",
       "G       0.011077  "
      ]
     },
     "execution_count": 70,
     "metadata": {},
     "output_type": "execute_result"
    }
   ],
   "source": [
    "# The portfolio is rebalanced at \n",
    "x.state"
   ]
  },
  {
   "cell_type": "code",
   "execution_count": null,
   "metadata": {},
   "outputs": [],
   "source": []
  }
 ],
 "metadata": {
  "kernelspec": {
   "display_name": "Python 3",
   "language": "python",
   "name": "python3"
  },
  "language_info": {
   "codemirror_mode": {
    "name": "ipython",
    "version": 3
   },
   "file_extension": ".py",
   "mimetype": "text/x-python",
   "name": "python",
   "nbconvert_exporter": "python",
   "pygments_lexer": "ipython3",
   "version": "3.7.2"
  },
  "toc": {
   "base_numbering": 1.0,
   "nav_menu": {},
   "number_sections": false,
   "sideBar": false,
   "skip_h1_title": false,
   "title_cell": "Table of Contents",
   "title_sidebar": "Contents",
   "toc_cell": false,
   "toc_position": {},
   "toc_section_display": false,
   "toc_window_display": false
  }
 },
 "nbformat": 4,
 "nbformat_minor": 2
}
