{
 "cells": [
  {
   "cell_type": "code",
   "execution_count": 2,
   "metadata": {},
   "outputs": [
    {
     "name": "stdout",
     "output_type": "stream",
     "text": [
      "1.2.17\n"
     ]
    }
   ],
   "source": [
    "import sqlalchemy as sq\n",
    "from sqlite3 import dbapi2 as sqlite\n",
    "from sqlalchemy.ext.declarative import declarative_base\n",
    "\n",
    "Base = declarative_base()\n",
    "\n",
    "class Product(Base):\n",
    "    __tablename__ = \"product\"\n",
    "    name = sq.Column(sq.String(200), nullable=True)\n",
    "    id = sq.Column(sq.Integer, primary_key=True, autoincrement=True)\n",
    "\n",
    "    discriminator = sq.Column(sq.String)\n",
    "    __table_args__ = (sq.UniqueConstraint('discriminator', 'name', name='uix_1'),)\n",
    "    \n",
    "engine = sq.create_engine('sqlite+pysqlite://', module=sqlite, echo=False)\n",
    "\n",
    "# create some tables\n",
    "Base.metadata.create_all(engine)\n",
    "print(sq.__version__)"
   ]
  },
  {
   "cell_type": "code",
   "execution_count": 3,
   "metadata": {},
   "outputs": [
    {
     "name": "stdout",
     "output_type": "stream",
     "text": [
      "2019-02-26 17:16:00,972 INFO sqlalchemy.engine.base.Engine SELECT CAST('test plain returns' AS VARCHAR(60)) AS anon_1\n",
      "2019-02-26 17:16:00,972 INFO sqlalchemy.engine.base.Engine ()\n",
      "2019-02-26 17:16:00,973 INFO sqlalchemy.engine.base.Engine SELECT CAST('test unicode returns' AS VARCHAR(60)) AS anon_1\n",
      "2019-02-26 17:16:00,973 INFO sqlalchemy.engine.base.Engine ()\n",
      "2019-02-26 17:16:00,974 INFO sqlalchemy.engine.base.Engine PRAGMA table_info(\"reference_field\")\n",
      "2019-02-26 17:16:00,974 INFO sqlalchemy.engine.base.Engine ()\n",
      "2019-02-26 17:16:00,975 INFO sqlalchemy.engine.base.Engine PRAGMA table_info(\"reference_data\")\n",
      "2019-02-26 17:16:00,975 INFO sqlalchemy.engine.base.Engine ()\n",
      "2019-02-26 17:16:00,975 INFO sqlalchemy.engine.base.Engine PRAGMA table_info(\"productinterface\")\n",
      "2019-02-26 17:16:00,976 INFO sqlalchemy.engine.base.Engine ()\n",
      "2019-02-26 17:16:00,976 INFO sqlalchemy.engine.base.Engine PRAGMA table_info(\"series\")\n",
      "2019-02-26 17:16:01,017 INFO sqlalchemy.engine.base.Engine ()\n",
      "2019-02-26 17:16:01,018 INFO sqlalchemy.engine.base.Engine PRAGMA table_info(\"symbol\")\n",
      "2019-02-26 17:16:01,018 INFO sqlalchemy.engine.base.Engine ()\n",
      "2019-02-26 17:16:01,020 INFO sqlalchemy.engine.base.Engine \n",
      "CREATE TABLE reference_field (\n",
      "\tid INTEGER NOT NULL, \n",
      "\tname VARCHAR(50), \n",
      "\ttype VARCHAR(7), \n",
      "\tresult VARCHAR(10) NOT NULL, \n",
      "\taddepar VARCHAR, \n",
      "\tPRIMARY KEY (id), \n",
      "\tUNIQUE (name), \n",
      "\tCONSTRAINT fieldtype CHECK (type IN ('dynamic', 'static', 'other')), \n",
      "\tCONSTRAINT datatype CHECK (result IN ('string', 'integer', 'float', 'date', 'datetime', 'percentage'))\n",
      ")\n",
      "\n",
      "\n",
      "2019-02-26 17:16:01,020 INFO sqlalchemy.engine.base.Engine ()\n",
      "2019-02-26 17:16:01,021 INFO sqlalchemy.engine.base.Engine COMMIT\n",
      "2019-02-26 17:16:01,021 INFO sqlalchemy.engine.base.Engine \n",
      "CREATE TABLE productinterface (\n",
      "\tname VARCHAR(200), \n",
      "\tid INTEGER NOT NULL, \n",
      "\tdiscriminator VARCHAR, \n",
      "\tPRIMARY KEY (id), \n",
      "\tCONSTRAINT uix_1 UNIQUE (discriminator, name)\n",
      ")\n",
      "\n",
      "\n",
      "2019-02-26 17:16:01,022 INFO sqlalchemy.engine.base.Engine ()\n",
      "2019-02-26 17:16:01,023 INFO sqlalchemy.engine.base.Engine COMMIT\n",
      "2019-02-26 17:16:01,024 INFO sqlalchemy.engine.base.Engine \n",
      "CREATE TABLE reference_data (\n",
      "\tfield_id INTEGER NOT NULL, \n",
      "\tcontent VARCHAR(200) NOT NULL, \n",
      "\tproduct_id INTEGER NOT NULL, \n",
      "\tPRIMARY KEY (field_id, product_id), \n",
      "\tFOREIGN KEY(field_id) REFERENCES reference_field (id), \n",
      "\tFOREIGN KEY(product_id) REFERENCES productinterface (id)\n",
      ")\n",
      "\n",
      "\n",
      "2019-02-26 17:16:01,024 INFO sqlalchemy.engine.base.Engine ()\n",
      "2019-02-26 17:16:01,026 INFO sqlalchemy.engine.base.Engine COMMIT\n",
      "2019-02-26 17:16:01,027 INFO sqlalchemy.engine.base.Engine CREATE INDEX ix_reference_data_product_id ON reference_data (product_id)\n",
      "2019-02-26 17:16:01,027 INFO sqlalchemy.engine.base.Engine ()\n",
      "2019-02-26 17:16:01,032 INFO sqlalchemy.engine.base.Engine COMMIT\n",
      "2019-02-26 17:16:01,033 INFO sqlalchemy.engine.base.Engine \n",
      "CREATE TABLE series (\n",
      "\tdata BLOB, \n",
      "\tid INTEGER NOT NULL, \n",
      "\tname VARCHAR, \n",
      "\tproduct1_id INTEGER NOT NULL, \n",
      "\tproduct2_id INTEGER, \n",
      "\tproduct3_id INTEGER, \n",
      "\tPRIMARY KEY (id), \n",
      "\tFOREIGN KEY(product1_id) REFERENCES productinterface (id) ON DELETE CASCADE ON UPDATE CASCADE, \n",
      "\tFOREIGN KEY(product2_id) REFERENCES productinterface (id) ON DELETE CASCADE ON UPDATE CASCADE, \n",
      "\tFOREIGN KEY(product3_id) REFERENCES productinterface (id) ON DELETE CASCADE ON UPDATE CASCADE\n",
      ")\n",
      "\n",
      "\n",
      "2019-02-26 17:16:01,034 INFO sqlalchemy.engine.base.Engine ()\n",
      "2019-02-26 17:16:01,034 INFO sqlalchemy.engine.base.Engine COMMIT\n",
      "2019-02-26 17:16:01,035 INFO sqlalchemy.engine.base.Engine \n",
      "CREATE TABLE symbol (\n",
      "\tid INTEGER NOT NULL, \n",
      "\t\"group\" VARCHAR(12), \n",
      "\tinternal VARCHAR, \n",
      "\tPRIMARY KEY (id), \n",
      "\tFOREIGN KEY(id) REFERENCES productinterface (id) ON DELETE CASCADE ON UPDATE CASCADE, \n",
      "\tCONSTRAINT symboltype CHECK (\"group\" IN ('alternatives', 'fixed_income', 'currency', 'equities'))\n",
      ")\n",
      "\n",
      "\n",
      "2019-02-26 17:16:01,036 INFO sqlalchemy.engine.base.Engine ()\n",
      "2019-02-26 17:16:01,036 INFO sqlalchemy.engine.base.Engine COMMIT\n"
     ]
    }
   ],
   "source": [
    "from pyutil.sql.base import Base\n",
    "#from pyutil.sql.interfaces.products import ProductInterface\n",
    "from pyutil.sql.interfaces.symbols.symbol import Symbol#, Base\n",
    "\n",
    "engine = sq.create_engine('sqlite+pysqlite://', module=sqlite, echo=True)\n",
    "# create some tables\n",
    "Base.metadata.create_all(engine)\n",
    "\n",
    "from sqlalchemy.orm import Session\n",
    "\n",
    "connection = engine.connect()\n",
    "session = Session(bind=connection)\n"
   ]
  },
  {
   "cell_type": "code",
   "execution_count": 4,
   "metadata": {},
   "outputs": [
    {
     "name": "stdout",
     "output_type": "stream",
     "text": [
      "2019-02-26 17:16:01,050 INFO sqlalchemy.engine.base.Engine BEGIN (implicit)\n",
      "2019-02-26 17:16:01,052 INFO sqlalchemy.engine.base.Engine INSERT INTO productinterface (name, discriminator) VALUES (?, ?)\n",
      "2019-02-26 17:16:01,053 INFO sqlalchemy.engine.base.Engine ('A', 'symbol')\n",
      "2019-02-26 17:16:01,055 INFO sqlalchemy.engine.base.Engine INSERT INTO symbol (id, \"group\", internal) VALUES (?, ?, ?)\n",
      "2019-02-26 17:16:01,055 INFO sqlalchemy.engine.base.Engine (1, 'equities', 'Peter Maffay')\n",
      "2019-02-26 17:16:01,056 INFO sqlalchemy.engine.base.Engine COMMIT\n",
      "2019-02-26 17:16:01,059 INFO sqlalchemy.engine.base.Engine BEGIN (implicit)\n",
      "2019-02-26 17:16:01,060 INFO sqlalchemy.engine.base.Engine SELECT productinterface.name AS productinterface_name, symbol.id AS symbol_id, productinterface.id AS productinterface_id, productinterface.discriminator AS productinterface_discriminator, symbol.\"group\" AS symbol_group, symbol.internal AS symbol_internal, reference_data_1.field_id AS reference_data_1_field_id, reference_data_1.content AS reference_data_1_content, reference_data_1.product_id AS reference_data_1_product_id \n",
      "FROM productinterface JOIN symbol ON productinterface.id = symbol.id LEFT OUTER JOIN reference_data AS reference_data_1 ON productinterface.id = reference_data_1.product_id\n",
      "2019-02-26 17:16:01,061 INFO sqlalchemy.engine.base.Engine ()\n",
      "symbol(A)\n",
      "2019-02-26 17:16:01,062 INFO sqlalchemy.engine.base.Engine COMMIT\n"
     ]
    }
   ],
   "source": [
    "from pyutil.sql.interfaces.symbols.symbol import Symbol, SymbolType\n",
    "symbol = Symbol(name=\"A\", group=SymbolType.equities, internal=\"Peter Maffay\")\n",
    "\n",
    "session.add(symbol)\n",
    "session.add(symbol)\n",
    "session.commit()\n",
    "\n",
    "for symbol in session.query(Symbol):\n",
    "    print(symbol)\n",
    "    \n",
    "session.add(symbol)\n",
    "session.commit()"
   ]
  },
  {
   "cell_type": "code",
   "execution_count": null,
   "metadata": {},
   "outputs": [],
   "source": [
    "\n"
   ]
  }
 ],
 "metadata": {
  "kernelspec": {
   "display_name": "Python 3",
   "language": "python",
   "name": "python3"
  },
  "language_info": {
   "codemirror_mode": {
    "name": "ipython",
    "version": 3
   },
   "file_extension": ".py",
   "mimetype": "text/x-python",
   "name": "python",
   "nbconvert_exporter": "python",
   "pygments_lexer": "ipython3",
   "version": "3.7.2"
  },
  "toc": {
   "base_numbering": 1.0,
   "nav_menu": {},
   "number_sections": false,
   "sideBar": false,
   "skip_h1_title": false,
   "title_cell": "Table of Contents",
   "title_sidebar": "Contents",
   "toc_cell": false,
   "toc_position": {},
   "toc_section_display": false,
   "toc_window_display": false
  }
 },
 "nbformat": 4,
 "nbformat_minor": 2
}
